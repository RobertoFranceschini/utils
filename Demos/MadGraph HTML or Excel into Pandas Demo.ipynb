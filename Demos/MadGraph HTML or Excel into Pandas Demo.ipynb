{
 "cells": [
  {
   "cell_type": "markdown",
   "metadata": {
    "heading_collapsed": true
   },
   "source": [
    "#### Front Matter"
   ]
  },
  {
   "cell_type": "code",
   "execution_count": 1,
   "metadata": {
    "ExecuteTime": {
     "end_time": "2019-05-25T11:11:07.329453Z",
     "start_time": "2019-05-25T11:11:05.858340Z"
    },
    "hidden": true,
    "init_cell": true
   },
   "outputs": [],
   "source": [
    "import pandas as pd\n",
    "import numpy as np\n",
    "import matplotlib.pyplot as plt\n",
    "import NumpyClasses as npc\n",
    "import utils as u\n",
    "import importlib\n",
    "from scipy.optimize import curve_fit\n",
    "import sympy as sp"
   ]
  },
  {
   "cell_type": "code",
   "execution_count": 2,
   "metadata": {
    "ExecuteTime": {
     "end_time": "2019-05-25T11:11:07.337548Z",
     "start_time": "2019-05-25T11:11:07.331285Z"
    },
    "hidden": true,
    "init_cell": true
   },
   "outputs": [
    {
     "data": {
      "text/plain": [
       "<module 'utils' from '/Users/roberto/scriptbelt/utils.py'>"
      ]
     },
     "execution_count": 2,
     "metadata": {},
     "output_type": "execute_result"
    }
   ],
   "source": [
    "importlib.reload(u)"
   ]
  },
  {
   "cell_type": "code",
   "execution_count": 117,
   "metadata": {
    "ExecuteTime": {
     "end_time": "2019-03-27T17:56:36.715242Z",
     "start_time": "2019-03-27T17:56:36.698315Z"
    },
    "hidden": true
   },
   "outputs": [
    {
     "data": {
      "text/plain": [
       "<module 'NumpyClasses' from '/Users/roberto/humanroot/utils/PyLHEanalysis/NumpyClasses.py'>"
      ]
     },
     "execution_count": 117,
     "metadata": {},
     "output_type": "execute_result"
    }
   ],
   "source": [
    "importlib.reload(npc)"
   ]
  },
  {
   "cell_type": "code",
   "execution_count": 3,
   "metadata": {
    "ExecuteTime": {
     "end_time": "2019-05-25T11:11:07.343927Z",
     "start_time": "2019-05-25T11:11:07.339258Z"
    },
    "hidden": true,
    "init_cell": true
   },
   "outputs": [
    {
     "data": {
      "text/html": [
       "<style>.container { width:99% !important; }</style>"
      ],
      "text/plain": [
       "<IPython.core.display.HTML object>"
      ]
     },
     "metadata": {},
     "output_type": "display_data"
    }
   ],
   "source": [
    "from IPython.core.display import display, HTML\n",
    "display(HTML(\"<style>.container { width:99% !important; }</style>\"))"
   ]
  },
  {
   "cell_type": "code",
   "execution_count": 4,
   "metadata": {
    "ExecuteTime": {
     "end_time": "2019-05-25T11:11:07.349504Z",
     "start_time": "2019-05-25T11:11:07.346235Z"
    },
    "hidden": true,
    "init_cell": true
   },
   "outputs": [],
   "source": [
    "plt.rcParams['figure.figsize'] = [8.0, 6.0]\n",
    "plt.rcParams['figure.dpi'] = 80\n",
    "plt.rcParams['savefig.dpi'] = 150\n",
    "\n",
    "plt.rcParams['font.size'] = 18\n",
    "plt.rcParams['legend.fontsize'] = 'large'\n",
    "plt.rcParams['figure.titlesize'] = 'medium'"
   ]
  },
  {
   "cell_type": "markdown",
   "metadata": {
    "heading_collapsed": true
   },
   "source": [
    "### Functions"
   ]
  },
  {
   "cell_type": "code",
   "execution_count": 14,
   "metadata": {
    "ExecuteTime": {
     "end_time": "2019-03-21T16:57:04.804137Z",
     "start_time": "2019-03-21T16:57:04.799477Z"
    },
    "hidden": true
   },
   "outputs": [],
   "source": [
    "def isstring(s):\n",
    "    return isinstance(s, str)"
   ]
  },
  {
   "cell_type": "code",
   "execution_count": 474,
   "metadata": {
    "ExecuteTime": {
     "end_time": "2019-03-22T19:15:42.096567Z",
     "start_time": "2019-03-22T19:15:42.092117Z"
    },
    "hidden": true
   },
   "outputs": [],
   "source": [
    "def nextto(s,string='ebeam1'):\n",
    "    try:\n",
    "        return s.split(string)[1].split('_')[1]\n",
    "    except IndexError:\n",
    "        return s"
   ]
  },
  {
   "cell_type": "code",
   "execution_count": 53,
   "metadata": {
    "ExecuteTime": {
     "end_time": "2019-03-21T17:09:31.460885Z",
     "start_time": "2019-03-21T17:09:31.458260Z"
    },
    "hidden": true
   },
   "outputs": [],
   "source": [
    "def measurementFromString(s,err='±'):\n",
    "    return list(map(lambda x: float(x), s.split(err) ) )"
   ]
  },
  {
   "cell_type": "markdown",
   "metadata": {
    "ExecuteTime": {
     "end_time": "2019-03-21T20:41:13.633570Z",
     "start_time": "2019-03-21T20:41:13.630910Z"
    },
    "hidden": true
   },
   "source": [
    "#### tests"
   ]
  },
  {
   "cell_type": "code",
   "execution_count": 43,
   "metadata": {
    "ExecuteTime": {
     "end_time": "2019-03-21T17:06:38.239108Z",
     "start_time": "2019-03-21T17:06:38.235187Z"
    },
    "hidden": true
   },
   "outputs": [
    {
     "data": {
      "text/plain": [
       "'1e-10'"
      ]
     },
     "execution_count": 43,
     "metadata": {},
     "output_type": "execute_result"
    }
   ],
   "source": [
    "nextto(zhCS['Banner'][3],string='G3L')"
   ]
  },
  {
   "cell_type": "code",
   "execution_count": 54,
   "metadata": {
    "ExecuteTime": {
     "end_time": "2019-03-21T17:09:32.926705Z",
     "start_time": "2019-03-21T17:09:32.922800Z"
    },
    "hidden": true
   },
   "outputs": [
    {
     "data": {
      "text/plain": [
       "[0.001381, 2.4e-07]"
      ]
     },
     "execution_count": 54,
     "metadata": {},
     "output_type": "execute_result"
    }
   ],
   "source": [
    "measurementFromString(zhCS['Cross section (pb)'][3])"
   ]
  },
  {
   "cell_type": "markdown",
   "metadata": {
    "heading_collapsed": true
   },
   "source": [
    "### Read the data from Excel"
   ]
  },
  {
   "cell_type": "code",
   "execution_count": 453,
   "metadata": {
    "ExecuteTime": {
     "end_time": "2019-03-22T19:01:33.387783Z",
     "start_time": "2019-03-22T19:01:33.294646Z"
    },
    "hidden": true
   },
   "outputs": [],
   "source": [
    "_zhCS=pd.read_excel(\"ZH.xlsx\")"
   ]
  },
  {
   "cell_type": "code",
   "execution_count": 454,
   "metadata": {
    "ExecuteTime": {
     "end_time": "2019-03-22T19:01:34.448857Z",
     "start_time": "2019-03-22T19:01:34.431791Z"
    },
    "hidden": true
   },
   "outputs": [],
   "source": [
    "_zhCS['CleanBanner']=_zhCS['Banner'].apply(isstring)"
   ]
  },
  {
   "cell_type": "code",
   "execution_count": 455,
   "metadata": {
    "ExecuteTime": {
     "end_time": "2019-03-22T19:01:35.959766Z",
     "start_time": "2019-03-22T19:01:35.914281Z"
    },
    "hidden": true
   },
   "outputs": [],
   "source": [
    "zhCS=pd.DataFrame(_zhCS.query('CleanBanner==True') )"
   ]
  },
  {
   "cell_type": "markdown",
   "metadata": {
    "heading_collapsed": true
   },
   "source": [
    "### Read the data from HTML (prototyping)"
   ]
  },
  {
   "cell_type": "markdown",
   "metadata": {
    "hidden": true
   },
   "source": [
    "https://pandas.pydata.org/pandas-docs/stable/reference/api/pandas.read_html.html"
   ]
  },
  {
   "cell_type": "code",
   "execution_count": 22,
   "metadata": {
    "ExecuteTime": {
     "end_time": "2019-03-27T14:58:49.352592Z",
     "start_time": "2019-03-27T14:58:49.315399Z"
    },
    "hidden": true
   },
   "outputs": [],
   "source": [
    "MGpage=pd.read_html(\"http://localhost:7000/CLICwzX/ee2zh/crossx.html\",header=0)[-1]"
   ]
  },
  {
   "cell_type": "code",
   "execution_count": 25,
   "metadata": {
    "ExecuteTime": {
     "end_time": "2019-03-27T14:59:32.551096Z",
     "start_time": "2019-03-27T14:59:32.540356Z"
    },
    "hidden": true
   },
   "outputs": [],
   "source": [
    "MGpage['CleanBanner']=MGpage['Banner'].apply(u.isstring)"
   ]
  },
  {
   "cell_type": "code",
   "execution_count": 20,
   "metadata": {
    "ExecuteTime": {
     "end_time": "2019-03-27T14:57:57.614792Z",
     "start_time": "2019-03-27T14:57:57.572549Z"
    },
    "hidden": true
   },
   "outputs": [
    {
     "data": {
      "text/html": [
       "<div>\n",
       "<style scoped>\n",
       "    .dataframe tbody tr th:only-of-type {\n",
       "        vertical-align: middle;\n",
       "    }\n",
       "\n",
       "    .dataframe tbody tr th {\n",
       "        vertical-align: top;\n",
       "    }\n",
       "\n",
       "    .dataframe thead th {\n",
       "        text-align: right;\n",
       "    }\n",
       "</style>\n",
       "<table border=\"1\" class=\"dataframe\">\n",
       "  <thead>\n",
       "    <tr style=\"text-align: right;\">\n",
       "      <th></th>\n",
       "      <th>Run</th>\n",
       "      <th>Collider</th>\n",
       "      <th>Banner</th>\n",
       "      <th>Cross section (pb)</th>\n",
       "      <th>Events</th>\n",
       "      <th>Data</th>\n",
       "      <th>Output</th>\n",
       "      <th>Action</th>\n",
       "      <th>CleanBanner</th>\n",
       "    </tr>\n",
       "  </thead>\n",
       "  <tbody>\n",
       "    <tr>\n",
       "      <th>1</th>\n",
       "      <td>run1_of_4__ebeam1_1500_ebeam2_1500_G3L_0__2019...</td>\n",
       "      <td>e+ e- 1500.0 x 1500.0 GeV</td>\n",
       "      <td>ee2zh_run2_ebeam1_1500_ebeam2_1500_G3L_0</td>\n",
       "      <td>0.001362 ± 2.4e-07</td>\n",
       "      <td>100000</td>\n",
       "      <td>parton madevent</td>\n",
       "      <td>LHE</td>\n",
       "      <td>NaN</td>\n",
       "      <td>True</td>\n",
       "    </tr>\n",
       "    <tr>\n",
       "      <th>2</th>\n",
       "      <td>run2_of_4__ebeam1_1500_ebeam2_1500_G3L_1e-10__...</td>\n",
       "      <td>e+ e- 1500.0 x 1500.0 GeV</td>\n",
       "      <td>ee2zh_run3_ebeam1_1500_ebeam2_1500_G3L_1e-10</td>\n",
       "      <td>0.001381 ± 2.4e-07</td>\n",
       "      <td>100000</td>\n",
       "      <td>parton madevent</td>\n",
       "      <td>LHE</td>\n",
       "      <td>NaN</td>\n",
       "      <td>True</td>\n",
       "    </tr>\n",
       "    <tr>\n",
       "      <th>3</th>\n",
       "      <td>run3_of_4__ebeam1_1500_ebeam2_1500_G3L_1e-11__...</td>\n",
       "      <td>e+ e- 1500.0 x 1500.0 GeV</td>\n",
       "      <td>ee2zh_run4_ebeam1_1500_ebeam2_1500_G3L_1e-11</td>\n",
       "      <td>0.001363 ± 2.4e-07</td>\n",
       "      <td>100000</td>\n",
       "      <td>parton madevent</td>\n",
       "      <td>LHE</td>\n",
       "      <td>NaN</td>\n",
       "      <td>True</td>\n",
       "    </tr>\n",
       "    <tr>\n",
       "      <th>4</th>\n",
       "      <td>run4_of_4__ebeam1_1500_ebeam2_1500_G3L_1e-9__2...</td>\n",
       "      <td>e+ e- 1500.0 x 1500.0 GeV</td>\n",
       "      <td>ee2zh_run5_ebeam1_1500_ebeam2_1500_G3L_1e-9</td>\n",
       "      <td>0.001563 ± 2.9e-07</td>\n",
       "      <td>100000</td>\n",
       "      <td>parton madevent</td>\n",
       "      <td>LHE</td>\n",
       "      <td>NaN</td>\n",
       "      <td>True</td>\n",
       "    </tr>\n",
       "    <tr>\n",
       "      <th>5</th>\n",
       "      <td>run1_of_14__ebeam1_7000_ebeam2_7000_G3L_0__201...</td>\n",
       "      <td>e+ e- 7000.0 x 7000.0 GeV</td>\n",
       "      <td>ee2zh_run2_ebeam1_7000_ebeam2_7000_G3L_0</td>\n",
       "      <td>6.226e-05 ± 1.1e-08</td>\n",
       "      <td>100000</td>\n",
       "      <td>parton madevent</td>\n",
       "      <td>LHE</td>\n",
       "      <td>NaN</td>\n",
       "      <td>True</td>\n",
       "    </tr>\n",
       "    <tr>\n",
       "      <th>6</th>\n",
       "      <td>run2_of_14__ebeam1_7000_ebeam2_7000_G3L_1e-11_...</td>\n",
       "      <td>e+ e- 7000.0 x 7000.0 GeV</td>\n",
       "      <td>ee2zh_run3_ebeam1_7000_ebeam2_7000_G3L_1e-11</td>\n",
       "      <td>6.415e-05 ± 1.2e-08</td>\n",
       "      <td>100000</td>\n",
       "      <td>parton madevent</td>\n",
       "      <td>LHE</td>\n",
       "      <td>NaN</td>\n",
       "      <td>True</td>\n",
       "    </tr>\n",
       "    <tr>\n",
       "      <th>7</th>\n",
       "      <td>run3_of_14__ebeam1_7000_ebeam2_7000_G3L_1e-12_...</td>\n",
       "      <td>e+ e- 7000.0 x 7000.0 GeV</td>\n",
       "      <td>ee2zh_run4_ebeam1_7000_ebeam2_7000_G3L_1e-12</td>\n",
       "      <td>6.243e-05 ± 1.2e-08</td>\n",
       "      <td>100000</td>\n",
       "      <td>parton madevent</td>\n",
       "      <td>LHE</td>\n",
       "      <td>NaN</td>\n",
       "      <td>True</td>\n",
       "    </tr>\n",
       "    <tr>\n",
       "      <th>8</th>\n",
       "      <td>run4_of_14__ebeam1_7000_ebeam2_7000_G3L_1e-13_...</td>\n",
       "      <td>e+ e- 7000.0 x 7000.0 GeV</td>\n",
       "      <td>ee2zh_run5_ebeam1_7000_ebeam2_7000_G3L_1e-13</td>\n",
       "      <td>6.226e-05 ± 1.1e-08</td>\n",
       "      <td>100000</td>\n",
       "      <td>parton madevent</td>\n",
       "      <td>LHE</td>\n",
       "      <td>NaN</td>\n",
       "      <td>True</td>\n",
       "    </tr>\n",
       "    <tr>\n",
       "      <th>9</th>\n",
       "      <td>run5_of_14__ebeam1_7000_ebeam2_7000_G3L_-1e-13...</td>\n",
       "      <td>e+ e- 7000.0 x 7000.0 GeV</td>\n",
       "      <td>ee2zh_run6_ebeam1_7000_ebeam2_7000_G3L_-1e-13</td>\n",
       "      <td>6.224e-05 ± 1.1e-08</td>\n",
       "      <td>100000</td>\n",
       "      <td>parton madevent</td>\n",
       "      <td>LHE</td>\n",
       "      <td>NaN</td>\n",
       "      <td>True</td>\n",
       "    </tr>\n",
       "    <tr>\n",
       "      <th>10</th>\n",
       "      <td>run6_of_14__ebeam1_7000_ebeam2_7000_G3L_-1e-12...</td>\n",
       "      <td>e+ e- 7000.0 x 7000.0 GeV</td>\n",
       "      <td>ee2zh_run7_ebeam1_7000_ebeam2_7000_G3L_-1e-12</td>\n",
       "      <td>6.206e-05 ± 1.1e-08</td>\n",
       "      <td>100000</td>\n",
       "      <td>parton madevent</td>\n",
       "      <td>LHE</td>\n",
       "      <td>NaN</td>\n",
       "      <td>True</td>\n",
       "    </tr>\n",
       "    <tr>\n",
       "      <th>11</th>\n",
       "      <td>run7_of_14__ebeam1_7000_ebeam2_7000_G3L_-1e-11...</td>\n",
       "      <td>e+ e- 7000.0 x 7000.0 GeV</td>\n",
       "      <td>ee2zh_run8_ebeam1_7000_ebeam2_7000_G3L_-1e-11</td>\n",
       "      <td>6.037e-05 ± 1.1e-08</td>\n",
       "      <td>100000</td>\n",
       "      <td>parton madevent</td>\n",
       "      <td>LHE</td>\n",
       "      <td>NaN</td>\n",
       "      <td>True</td>\n",
       "    </tr>\n",
       "    <tr>\n",
       "      <th>12</th>\n",
       "      <td>run8_of_14__ebeam1_15000_ebeam2_15000_G3L_0__2...</td>\n",
       "      <td>e+ e- 15000.0 x 15000.0 GeV</td>\n",
       "      <td>ee2zh_run9_ebeam1_15000_ebeam2_15000_G3L_0</td>\n",
       "      <td>1.355e-05 ± 2.5e-09</td>\n",
       "      <td>100000</td>\n",
       "      <td>parton madevent</td>\n",
       "      <td>LHE</td>\n",
       "      <td>NaN</td>\n",
       "      <td>True</td>\n",
       "    </tr>\n",
       "    <tr>\n",
       "      <th>13</th>\n",
       "      <td>run9_of_14__ebeam1_15000_ebeam2_15000_G3L_1e-1...</td>\n",
       "      <td>e+ e- 15000.0 x 15000.0 GeV</td>\n",
       "      <td>ee2zh_run10_ebeam1_15000_ebeam2_15000_G3L_1e-11</td>\n",
       "      <td>1.555e-05 ± 2.8e-09</td>\n",
       "      <td>100000</td>\n",
       "      <td>parton madevent</td>\n",
       "      <td>LHE</td>\n",
       "      <td>NaN</td>\n",
       "      <td>True</td>\n",
       "    </tr>\n",
       "    <tr>\n",
       "      <th>14</th>\n",
       "      <td>run10_of_14__ebeam1_15000_ebeam2_15000_G3L_1e-...</td>\n",
       "      <td>e+ e- 15000.0 x 15000.0 GeV</td>\n",
       "      <td>ee2zh_run11_ebeam1_15000_ebeam2_15000_G3L_1e-12</td>\n",
       "      <td>1.374e-05 ± 2.5e-09</td>\n",
       "      <td>100000</td>\n",
       "      <td>parton madevent</td>\n",
       "      <td>LHE</td>\n",
       "      <td>NaN</td>\n",
       "      <td>True</td>\n",
       "    </tr>\n",
       "    <tr>\n",
       "      <th>15</th>\n",
       "      <td>run11_of_14__ebeam1_15000_ebeam2_15000_G3L_1e-...</td>\n",
       "      <td>e+ e- 15000.0 x 15000.0 GeV</td>\n",
       "      <td>ee2zh_run12_ebeam1_15000_ebeam2_15000_G3L_1e-13</td>\n",
       "      <td>1.357e-05 ± 2.4e-09</td>\n",
       "      <td>100000</td>\n",
       "      <td>parton madevent</td>\n",
       "      <td>LHE</td>\n",
       "      <td>NaN</td>\n",
       "      <td>True</td>\n",
       "    </tr>\n",
       "    <tr>\n",
       "      <th>16</th>\n",
       "      <td>run12_of_14__ebeam1_15000_ebeam2_15000_G3L_-1e...</td>\n",
       "      <td>e+ e- 15000.0 x 15000.0 GeV</td>\n",
       "      <td>ee2zh_run13_ebeam1_15000_ebeam2_15000_G3L_-1e-13</td>\n",
       "      <td>1.353e-05 ± 2.4e-09</td>\n",
       "      <td>100000</td>\n",
       "      <td>parton madevent</td>\n",
       "      <td>LHE</td>\n",
       "      <td>NaN</td>\n",
       "      <td>True</td>\n",
       "    </tr>\n",
       "    <tr>\n",
       "      <th>17</th>\n",
       "      <td>run13_of_14__ebeam1_15000_ebeam2_15000_G3L_-1e...</td>\n",
       "      <td>e+ e- 15000.0 x 15000.0 GeV</td>\n",
       "      <td>ee2zh_run14_ebeam1_15000_ebeam2_15000_G3L_-1e-12</td>\n",
       "      <td>1.336e-05 ± 2.4e-09</td>\n",
       "      <td>100000</td>\n",
       "      <td>parton madevent</td>\n",
       "      <td>LHE</td>\n",
       "      <td>NaN</td>\n",
       "      <td>True</td>\n",
       "    </tr>\n",
       "    <tr>\n",
       "      <th>18</th>\n",
       "      <td>run14_of_14__ebeam1_15000_ebeam2_15000_G3L_-1e...</td>\n",
       "      <td>e+ e- 15000.0 x 15000.0 GeV</td>\n",
       "      <td>ee2zh_run15_ebeam1_15000_ebeam2_15000_G3L_-1e-11</td>\n",
       "      <td>1.178e-05 ± 2.2e-09</td>\n",
       "      <td>100000</td>\n",
       "      <td>parton madevent</td>\n",
       "      <td>LHE</td>\n",
       "      <td>NaN</td>\n",
       "      <td>True</td>\n",
       "    </tr>\n",
       "    <tr>\n",
       "      <th>19</th>\n",
       "      <td>run1_of_2__ebeam1_1500_ebeam2_1500_G3L_1e-10__...</td>\n",
       "      <td>e+ e- 1500.0 x 1500.0 GeV</td>\n",
       "      <td>ee2zh_run2_ebeam1_1500_ebeam2_1500_G3L_1e-10</td>\n",
       "      <td>0.001381 ± 2.5e-07</td>\n",
       "      <td>100000</td>\n",
       "      <td>parton madevent</td>\n",
       "      <td>LHE</td>\n",
       "      <td>NaN</td>\n",
       "      <td>True</td>\n",
       "    </tr>\n",
       "    <tr>\n",
       "      <th>20</th>\n",
       "      <td>run2_of_2__ebeam1_1500_ebeam2_1500_G3L_0__2019...</td>\n",
       "      <td>e+ e- 1500.0 x 1500.0 GeV</td>\n",
       "      <td>ee2zh_run3_ebeam1_1500_ebeam2_1500_G3L_0</td>\n",
       "      <td>0.001362 ± 2.5e-07</td>\n",
       "      <td>100000</td>\n",
       "      <td>parton madevent</td>\n",
       "      <td>LHE</td>\n",
       "      <td>NaN</td>\n",
       "      <td>True</td>\n",
       "    </tr>\n",
       "    <tr>\n",
       "      <th>21</th>\n",
       "      <td>run1_of_6__ebeam1_1500_ebeam2_1500_G3L_1e-8__2...</td>\n",
       "      <td>e+ e- 1500.0 x 1500.0 GeV</td>\n",
       "      <td>ee2zh_run2_ebeam1_1500_ebeam2_1500_G3L_1e-8</td>\n",
       "      <td>0.004425 ± 7.8e-07</td>\n",
       "      <td>100000</td>\n",
       "      <td>parton madevent</td>\n",
       "      <td>LHE</td>\n",
       "      <td>NaN</td>\n",
       "      <td>True</td>\n",
       "    </tr>\n",
       "    <tr>\n",
       "      <th>22</th>\n",
       "      <td>run2_of_6__ebeam1_1500_ebeam2_1500_G3L_-1e-8__...</td>\n",
       "      <td>e+ e- 1500.0 x 1500.0 GeV</td>\n",
       "      <td>ee2zh_run3_ebeam1_1500_ebeam2_1500_G3L_-1e-8</td>\n",
       "      <td>0.000634 ± 1.1e-07</td>\n",
       "      <td>100000</td>\n",
       "      <td>parton madevent</td>\n",
       "      <td>LHE</td>\n",
       "      <td>NaN</td>\n",
       "      <td>True</td>\n",
       "    </tr>\n",
       "    <tr>\n",
       "      <th>23</th>\n",
       "      <td>run3_of_6__ebeam1_7000_ebeam2_7000_G3L_1e-8__2...</td>\n",
       "      <td>e+ e- 7000.0 x 7000.0 GeV</td>\n",
       "      <td>ee2zh_run4_ebeam1_7000_ebeam2_7000_G3L_1e-8</td>\n",
       "      <td>0.02726 ± 4.7e-06</td>\n",
       "      <td>100000</td>\n",
       "      <td>parton madevent</td>\n",
       "      <td>LHE</td>\n",
       "      <td>NaN</td>\n",
       "      <td>True</td>\n",
       "    </tr>\n",
       "    <tr>\n",
       "      <th>24</th>\n",
       "      <td>run4_of_6__ebeam1_7000_ebeam2_7000_G3L_-1e-8__...</td>\n",
       "      <td>e+ e- 7000.0 x 7000.0 GeV</td>\n",
       "      <td>ee2zh_run5_ebeam1_7000_ebeam2_7000_G3L_-1e-8</td>\n",
       "      <td>0.02349 ± 4.1e-06</td>\n",
       "      <td>100000</td>\n",
       "      <td>parton madevent</td>\n",
       "      <td>LHE</td>\n",
       "      <td>NaN</td>\n",
       "      <td>True</td>\n",
       "    </tr>\n",
       "    <tr>\n",
       "      <th>25</th>\n",
       "      <td>run5_of_6__ebeam1_15000_ebeam2_15000_G3L_1e-8_...</td>\n",
       "      <td>e+ e- 15000.0 x 15000.0 GeV</td>\n",
       "      <td>ee2zh_run6_ebeam1_15000_ebeam2_15000_G3L_1e-8</td>\n",
       "      <td>0.1181 ± 2.1e-05</td>\n",
       "      <td>100000</td>\n",
       "      <td>parton madevent</td>\n",
       "      <td>LHE</td>\n",
       "      <td>NaN</td>\n",
       "      <td>True</td>\n",
       "    </tr>\n",
       "    <tr>\n",
       "      <th>26</th>\n",
       "      <td>run6_of_6__ebeam1_15000_ebeam2_15000_G3L_-1e-8...</td>\n",
       "      <td>e+ e- 15000.0 x 15000.0 GeV</td>\n",
       "      <td>ee2zh_run7_ebeam1_15000_ebeam2_15000_G3L_-1e-8</td>\n",
       "      <td>0.1143 ± 2e-05</td>\n",
       "      <td>100000</td>\n",
       "      <td>NaN</td>\n",
       "      <td>banner only</td>\n",
       "      <td>NaN</td>\n",
       "      <td>True</td>\n",
       "    </tr>\n",
       "  </tbody>\n",
       "</table>\n",
       "</div>"
      ],
      "text/plain": [
       "                                                  Run  \\\n",
       "1   run1_of_4__ebeam1_1500_ebeam2_1500_G3L_0__2019...   \n",
       "2   run2_of_4__ebeam1_1500_ebeam2_1500_G3L_1e-10__...   \n",
       "3   run3_of_4__ebeam1_1500_ebeam2_1500_G3L_1e-11__...   \n",
       "4   run4_of_4__ebeam1_1500_ebeam2_1500_G3L_1e-9__2...   \n",
       "5   run1_of_14__ebeam1_7000_ebeam2_7000_G3L_0__201...   \n",
       "6   run2_of_14__ebeam1_7000_ebeam2_7000_G3L_1e-11_...   \n",
       "7   run3_of_14__ebeam1_7000_ebeam2_7000_G3L_1e-12_...   \n",
       "8   run4_of_14__ebeam1_7000_ebeam2_7000_G3L_1e-13_...   \n",
       "9   run5_of_14__ebeam1_7000_ebeam2_7000_G3L_-1e-13...   \n",
       "10  run6_of_14__ebeam1_7000_ebeam2_7000_G3L_-1e-12...   \n",
       "11  run7_of_14__ebeam1_7000_ebeam2_7000_G3L_-1e-11...   \n",
       "12  run8_of_14__ebeam1_15000_ebeam2_15000_G3L_0__2...   \n",
       "13  run9_of_14__ebeam1_15000_ebeam2_15000_G3L_1e-1...   \n",
       "14  run10_of_14__ebeam1_15000_ebeam2_15000_G3L_1e-...   \n",
       "15  run11_of_14__ebeam1_15000_ebeam2_15000_G3L_1e-...   \n",
       "16  run12_of_14__ebeam1_15000_ebeam2_15000_G3L_-1e...   \n",
       "17  run13_of_14__ebeam1_15000_ebeam2_15000_G3L_-1e...   \n",
       "18  run14_of_14__ebeam1_15000_ebeam2_15000_G3L_-1e...   \n",
       "19  run1_of_2__ebeam1_1500_ebeam2_1500_G3L_1e-10__...   \n",
       "20  run2_of_2__ebeam1_1500_ebeam2_1500_G3L_0__2019...   \n",
       "21  run1_of_6__ebeam1_1500_ebeam2_1500_G3L_1e-8__2...   \n",
       "22  run2_of_6__ebeam1_1500_ebeam2_1500_G3L_-1e-8__...   \n",
       "23  run3_of_6__ebeam1_7000_ebeam2_7000_G3L_1e-8__2...   \n",
       "24  run4_of_6__ebeam1_7000_ebeam2_7000_G3L_-1e-8__...   \n",
       "25  run5_of_6__ebeam1_15000_ebeam2_15000_G3L_1e-8_...   \n",
       "26  run6_of_6__ebeam1_15000_ebeam2_15000_G3L_-1e-8...   \n",
       "\n",
       "                       Collider  \\\n",
       "1     e+ e- 1500.0 x 1500.0 GeV   \n",
       "2     e+ e- 1500.0 x 1500.0 GeV   \n",
       "3     e+ e- 1500.0 x 1500.0 GeV   \n",
       "4     e+ e- 1500.0 x 1500.0 GeV   \n",
       "5     e+ e- 7000.0 x 7000.0 GeV   \n",
       "6     e+ e- 7000.0 x 7000.0 GeV   \n",
       "7     e+ e- 7000.0 x 7000.0 GeV   \n",
       "8     e+ e- 7000.0 x 7000.0 GeV   \n",
       "9     e+ e- 7000.0 x 7000.0 GeV   \n",
       "10    e+ e- 7000.0 x 7000.0 GeV   \n",
       "11    e+ e- 7000.0 x 7000.0 GeV   \n",
       "12  e+ e- 15000.0 x 15000.0 GeV   \n",
       "13  e+ e- 15000.0 x 15000.0 GeV   \n",
       "14  e+ e- 15000.0 x 15000.0 GeV   \n",
       "15  e+ e- 15000.0 x 15000.0 GeV   \n",
       "16  e+ e- 15000.0 x 15000.0 GeV   \n",
       "17  e+ e- 15000.0 x 15000.0 GeV   \n",
       "18  e+ e- 15000.0 x 15000.0 GeV   \n",
       "19    e+ e- 1500.0 x 1500.0 GeV   \n",
       "20    e+ e- 1500.0 x 1500.0 GeV   \n",
       "21    e+ e- 1500.0 x 1500.0 GeV   \n",
       "22    e+ e- 1500.0 x 1500.0 GeV   \n",
       "23    e+ e- 7000.0 x 7000.0 GeV   \n",
       "24    e+ e- 7000.0 x 7000.0 GeV   \n",
       "25  e+ e- 15000.0 x 15000.0 GeV   \n",
       "26  e+ e- 15000.0 x 15000.0 GeV   \n",
       "\n",
       "                                              Banner   Cross section (pb)  \\\n",
       "1           ee2zh_run2_ebeam1_1500_ebeam2_1500_G3L_0   0.001362 ± 2.4e-07   \n",
       "2       ee2zh_run3_ebeam1_1500_ebeam2_1500_G3L_1e-10   0.001381 ± 2.4e-07   \n",
       "3       ee2zh_run4_ebeam1_1500_ebeam2_1500_G3L_1e-11   0.001363 ± 2.4e-07   \n",
       "4        ee2zh_run5_ebeam1_1500_ebeam2_1500_G3L_1e-9   0.001563 ± 2.9e-07   \n",
       "5           ee2zh_run2_ebeam1_7000_ebeam2_7000_G3L_0  6.226e-05 ± 1.1e-08   \n",
       "6       ee2zh_run3_ebeam1_7000_ebeam2_7000_G3L_1e-11  6.415e-05 ± 1.2e-08   \n",
       "7       ee2zh_run4_ebeam1_7000_ebeam2_7000_G3L_1e-12  6.243e-05 ± 1.2e-08   \n",
       "8       ee2zh_run5_ebeam1_7000_ebeam2_7000_G3L_1e-13  6.226e-05 ± 1.1e-08   \n",
       "9      ee2zh_run6_ebeam1_7000_ebeam2_7000_G3L_-1e-13  6.224e-05 ± 1.1e-08   \n",
       "10     ee2zh_run7_ebeam1_7000_ebeam2_7000_G3L_-1e-12  6.206e-05 ± 1.1e-08   \n",
       "11     ee2zh_run8_ebeam1_7000_ebeam2_7000_G3L_-1e-11  6.037e-05 ± 1.1e-08   \n",
       "12        ee2zh_run9_ebeam1_15000_ebeam2_15000_G3L_0  1.355e-05 ± 2.5e-09   \n",
       "13   ee2zh_run10_ebeam1_15000_ebeam2_15000_G3L_1e-11  1.555e-05 ± 2.8e-09   \n",
       "14   ee2zh_run11_ebeam1_15000_ebeam2_15000_G3L_1e-12  1.374e-05 ± 2.5e-09   \n",
       "15   ee2zh_run12_ebeam1_15000_ebeam2_15000_G3L_1e-13  1.357e-05 ± 2.4e-09   \n",
       "16  ee2zh_run13_ebeam1_15000_ebeam2_15000_G3L_-1e-13  1.353e-05 ± 2.4e-09   \n",
       "17  ee2zh_run14_ebeam1_15000_ebeam2_15000_G3L_-1e-12  1.336e-05 ± 2.4e-09   \n",
       "18  ee2zh_run15_ebeam1_15000_ebeam2_15000_G3L_-1e-11  1.178e-05 ± 2.2e-09   \n",
       "19      ee2zh_run2_ebeam1_1500_ebeam2_1500_G3L_1e-10   0.001381 ± 2.5e-07   \n",
       "20          ee2zh_run3_ebeam1_1500_ebeam2_1500_G3L_0   0.001362 ± 2.5e-07   \n",
       "21       ee2zh_run2_ebeam1_1500_ebeam2_1500_G3L_1e-8   0.004425 ± 7.8e-07   \n",
       "22      ee2zh_run3_ebeam1_1500_ebeam2_1500_G3L_-1e-8   0.000634 ± 1.1e-07   \n",
       "23       ee2zh_run4_ebeam1_7000_ebeam2_7000_G3L_1e-8    0.02726 ± 4.7e-06   \n",
       "24      ee2zh_run5_ebeam1_7000_ebeam2_7000_G3L_-1e-8    0.02349 ± 4.1e-06   \n",
       "25     ee2zh_run6_ebeam1_15000_ebeam2_15000_G3L_1e-8     0.1181 ± 2.1e-05   \n",
       "26    ee2zh_run7_ebeam1_15000_ebeam2_15000_G3L_-1e-8       0.1143 ± 2e-05   \n",
       "\n",
       "    Events             Data       Output  Action  CleanBanner  \n",
       "1   100000  parton madevent          LHE     NaN         True  \n",
       "2   100000  parton madevent          LHE     NaN         True  \n",
       "3   100000  parton madevent          LHE     NaN         True  \n",
       "4   100000  parton madevent          LHE     NaN         True  \n",
       "5   100000  parton madevent          LHE     NaN         True  \n",
       "6   100000  parton madevent          LHE     NaN         True  \n",
       "7   100000  parton madevent          LHE     NaN         True  \n",
       "8   100000  parton madevent          LHE     NaN         True  \n",
       "9   100000  parton madevent          LHE     NaN         True  \n",
       "10  100000  parton madevent          LHE     NaN         True  \n",
       "11  100000  parton madevent          LHE     NaN         True  \n",
       "12  100000  parton madevent          LHE     NaN         True  \n",
       "13  100000  parton madevent          LHE     NaN         True  \n",
       "14  100000  parton madevent          LHE     NaN         True  \n",
       "15  100000  parton madevent          LHE     NaN         True  \n",
       "16  100000  parton madevent          LHE     NaN         True  \n",
       "17  100000  parton madevent          LHE     NaN         True  \n",
       "18  100000  parton madevent          LHE     NaN         True  \n",
       "19  100000  parton madevent          LHE     NaN         True  \n",
       "20  100000  parton madevent          LHE     NaN         True  \n",
       "21  100000  parton madevent          LHE     NaN         True  \n",
       "22  100000  parton madevent          LHE     NaN         True  \n",
       "23  100000  parton madevent          LHE     NaN         True  \n",
       "24  100000  parton madevent          LHE     NaN         True  \n",
       "25  100000  parton madevent          LHE     NaN         True  \n",
       "26  100000              NaN  banner only     NaN         True  "
      ]
     },
     "execution_count": 20,
     "metadata": {},
     "output_type": "execute_result"
    }
   ],
   "source": []
  },
  {
   "cell_type": "code",
   "execution_count": 27,
   "metadata": {
    "ExecuteTime": {
     "end_time": "2019-03-27T15:00:06.857581Z",
     "start_time": "2019-03-27T15:00:06.852336Z"
    },
    "hidden": true
   },
   "outputs": [],
   "source": [
    "MGPage=pd.DataFrame((MGpage[MGPage['Banner'].str.contains('run')]).query('CleanBanner==True'))"
   ]
  },
  {
   "cell_type": "code",
   "execution_count": 28,
   "metadata": {
    "ExecuteTime": {
     "end_time": "2019-03-27T15:00:09.736945Z",
     "start_time": "2019-03-27T15:00:09.716618Z"
    },
    "hidden": true
   },
   "outputs": [
    {
     "data": {
      "text/html": [
       "<div>\n",
       "<style scoped>\n",
       "    .dataframe tbody tr th:only-of-type {\n",
       "        vertical-align: middle;\n",
       "    }\n",
       "\n",
       "    .dataframe tbody tr th {\n",
       "        vertical-align: top;\n",
       "    }\n",
       "\n",
       "    .dataframe thead th {\n",
       "        text-align: right;\n",
       "    }\n",
       "</style>\n",
       "<table border=\"1\" class=\"dataframe\">\n",
       "  <thead>\n",
       "    <tr style=\"text-align: right;\">\n",
       "      <th></th>\n",
       "      <th>Run</th>\n",
       "      <th>Collider</th>\n",
       "      <th>Banner</th>\n",
       "      <th>Cross section (pb)</th>\n",
       "      <th>Events</th>\n",
       "      <th>Data</th>\n",
       "      <th>Output</th>\n",
       "      <th>Action</th>\n",
       "      <th>CleanBanner</th>\n",
       "    </tr>\n",
       "  </thead>\n",
       "  <tbody>\n",
       "    <tr>\n",
       "      <th>1</th>\n",
       "      <td>run1_of_4__ebeam1_1500_ebeam2_1500_G3L_0__2019...</td>\n",
       "      <td>e+ e- 1500.0 x 1500.0 GeV</td>\n",
       "      <td>ee2zh_run2_ebeam1_1500_ebeam2_1500_G3L_0</td>\n",
       "      <td>0.001362 ± 2.4e-07</td>\n",
       "      <td>100000</td>\n",
       "      <td>parton madevent</td>\n",
       "      <td>LHE</td>\n",
       "      <td>NaN</td>\n",
       "      <td>True</td>\n",
       "    </tr>\n",
       "    <tr>\n",
       "      <th>2</th>\n",
       "      <td>run2_of_4__ebeam1_1500_ebeam2_1500_G3L_1e-10__...</td>\n",
       "      <td>e+ e- 1500.0 x 1500.0 GeV</td>\n",
       "      <td>ee2zh_run3_ebeam1_1500_ebeam2_1500_G3L_1e-10</td>\n",
       "      <td>0.001381 ± 2.4e-07</td>\n",
       "      <td>100000</td>\n",
       "      <td>parton madevent</td>\n",
       "      <td>LHE</td>\n",
       "      <td>NaN</td>\n",
       "      <td>True</td>\n",
       "    </tr>\n",
       "    <tr>\n",
       "      <th>3</th>\n",
       "      <td>run3_of_4__ebeam1_1500_ebeam2_1500_G3L_1e-11__...</td>\n",
       "      <td>e+ e- 1500.0 x 1500.0 GeV</td>\n",
       "      <td>ee2zh_run4_ebeam1_1500_ebeam2_1500_G3L_1e-11</td>\n",
       "      <td>0.001363 ± 2.4e-07</td>\n",
       "      <td>100000</td>\n",
       "      <td>parton madevent</td>\n",
       "      <td>LHE</td>\n",
       "      <td>NaN</td>\n",
       "      <td>True</td>\n",
       "    </tr>\n",
       "    <tr>\n",
       "      <th>4</th>\n",
       "      <td>run4_of_4__ebeam1_1500_ebeam2_1500_G3L_1e-9__2...</td>\n",
       "      <td>e+ e- 1500.0 x 1500.0 GeV</td>\n",
       "      <td>ee2zh_run5_ebeam1_1500_ebeam2_1500_G3L_1e-9</td>\n",
       "      <td>0.001563 ± 2.9e-07</td>\n",
       "      <td>100000</td>\n",
       "      <td>parton madevent</td>\n",
       "      <td>LHE</td>\n",
       "      <td>NaN</td>\n",
       "      <td>True</td>\n",
       "    </tr>\n",
       "    <tr>\n",
       "      <th>5</th>\n",
       "      <td>run1_of_14__ebeam1_7000_ebeam2_7000_G3L_0__201...</td>\n",
       "      <td>e+ e- 7000.0 x 7000.0 GeV</td>\n",
       "      <td>ee2zh_run2_ebeam1_7000_ebeam2_7000_G3L_0</td>\n",
       "      <td>6.226e-05 ± 1.1e-08</td>\n",
       "      <td>100000</td>\n",
       "      <td>parton madevent</td>\n",
       "      <td>LHE</td>\n",
       "      <td>NaN</td>\n",
       "      <td>True</td>\n",
       "    </tr>\n",
       "    <tr>\n",
       "      <th>6</th>\n",
       "      <td>run2_of_14__ebeam1_7000_ebeam2_7000_G3L_1e-11_...</td>\n",
       "      <td>e+ e- 7000.0 x 7000.0 GeV</td>\n",
       "      <td>ee2zh_run3_ebeam1_7000_ebeam2_7000_G3L_1e-11</td>\n",
       "      <td>6.415e-05 ± 1.2e-08</td>\n",
       "      <td>100000</td>\n",
       "      <td>parton madevent</td>\n",
       "      <td>LHE</td>\n",
       "      <td>NaN</td>\n",
       "      <td>True</td>\n",
       "    </tr>\n",
       "    <tr>\n",
       "      <th>7</th>\n",
       "      <td>run3_of_14__ebeam1_7000_ebeam2_7000_G3L_1e-12_...</td>\n",
       "      <td>e+ e- 7000.0 x 7000.0 GeV</td>\n",
       "      <td>ee2zh_run4_ebeam1_7000_ebeam2_7000_G3L_1e-12</td>\n",
       "      <td>6.243e-05 ± 1.2e-08</td>\n",
       "      <td>100000</td>\n",
       "      <td>parton madevent</td>\n",
       "      <td>LHE</td>\n",
       "      <td>NaN</td>\n",
       "      <td>True</td>\n",
       "    </tr>\n",
       "    <tr>\n",
       "      <th>8</th>\n",
       "      <td>run4_of_14__ebeam1_7000_ebeam2_7000_G3L_1e-13_...</td>\n",
       "      <td>e+ e- 7000.0 x 7000.0 GeV</td>\n",
       "      <td>ee2zh_run5_ebeam1_7000_ebeam2_7000_G3L_1e-13</td>\n",
       "      <td>6.226e-05 ± 1.1e-08</td>\n",
       "      <td>100000</td>\n",
       "      <td>parton madevent</td>\n",
       "      <td>LHE</td>\n",
       "      <td>NaN</td>\n",
       "      <td>True</td>\n",
       "    </tr>\n",
       "    <tr>\n",
       "      <th>9</th>\n",
       "      <td>run5_of_14__ebeam1_7000_ebeam2_7000_G3L_-1e-13...</td>\n",
       "      <td>e+ e- 7000.0 x 7000.0 GeV</td>\n",
       "      <td>ee2zh_run6_ebeam1_7000_ebeam2_7000_G3L_-1e-13</td>\n",
       "      <td>6.224e-05 ± 1.1e-08</td>\n",
       "      <td>100000</td>\n",
       "      <td>parton madevent</td>\n",
       "      <td>LHE</td>\n",
       "      <td>NaN</td>\n",
       "      <td>True</td>\n",
       "    </tr>\n",
       "    <tr>\n",
       "      <th>10</th>\n",
       "      <td>run6_of_14__ebeam1_7000_ebeam2_7000_G3L_-1e-12...</td>\n",
       "      <td>e+ e- 7000.0 x 7000.0 GeV</td>\n",
       "      <td>ee2zh_run7_ebeam1_7000_ebeam2_7000_G3L_-1e-12</td>\n",
       "      <td>6.206e-05 ± 1.1e-08</td>\n",
       "      <td>100000</td>\n",
       "      <td>parton madevent</td>\n",
       "      <td>LHE</td>\n",
       "      <td>NaN</td>\n",
       "      <td>True</td>\n",
       "    </tr>\n",
       "    <tr>\n",
       "      <th>11</th>\n",
       "      <td>run7_of_14__ebeam1_7000_ebeam2_7000_G3L_-1e-11...</td>\n",
       "      <td>e+ e- 7000.0 x 7000.0 GeV</td>\n",
       "      <td>ee2zh_run8_ebeam1_7000_ebeam2_7000_G3L_-1e-11</td>\n",
       "      <td>6.037e-05 ± 1.1e-08</td>\n",
       "      <td>100000</td>\n",
       "      <td>parton madevent</td>\n",
       "      <td>LHE</td>\n",
       "      <td>NaN</td>\n",
       "      <td>True</td>\n",
       "    </tr>\n",
       "    <tr>\n",
       "      <th>12</th>\n",
       "      <td>run8_of_14__ebeam1_15000_ebeam2_15000_G3L_0__2...</td>\n",
       "      <td>e+ e- 15000.0 x 15000.0 GeV</td>\n",
       "      <td>ee2zh_run9_ebeam1_15000_ebeam2_15000_G3L_0</td>\n",
       "      <td>1.355e-05 ± 2.5e-09</td>\n",
       "      <td>100000</td>\n",
       "      <td>parton madevent</td>\n",
       "      <td>LHE</td>\n",
       "      <td>NaN</td>\n",
       "      <td>True</td>\n",
       "    </tr>\n",
       "    <tr>\n",
       "      <th>13</th>\n",
       "      <td>run9_of_14__ebeam1_15000_ebeam2_15000_G3L_1e-1...</td>\n",
       "      <td>e+ e- 15000.0 x 15000.0 GeV</td>\n",
       "      <td>ee2zh_run10_ebeam1_15000_ebeam2_15000_G3L_1e-11</td>\n",
       "      <td>1.555e-05 ± 2.8e-09</td>\n",
       "      <td>100000</td>\n",
       "      <td>parton madevent</td>\n",
       "      <td>LHE</td>\n",
       "      <td>NaN</td>\n",
       "      <td>True</td>\n",
       "    </tr>\n",
       "    <tr>\n",
       "      <th>14</th>\n",
       "      <td>run10_of_14__ebeam1_15000_ebeam2_15000_G3L_1e-...</td>\n",
       "      <td>e+ e- 15000.0 x 15000.0 GeV</td>\n",
       "      <td>ee2zh_run11_ebeam1_15000_ebeam2_15000_G3L_1e-12</td>\n",
       "      <td>1.374e-05 ± 2.5e-09</td>\n",
       "      <td>100000</td>\n",
       "      <td>parton madevent</td>\n",
       "      <td>LHE</td>\n",
       "      <td>NaN</td>\n",
       "      <td>True</td>\n",
       "    </tr>\n",
       "    <tr>\n",
       "      <th>15</th>\n",
       "      <td>run11_of_14__ebeam1_15000_ebeam2_15000_G3L_1e-...</td>\n",
       "      <td>e+ e- 15000.0 x 15000.0 GeV</td>\n",
       "      <td>ee2zh_run12_ebeam1_15000_ebeam2_15000_G3L_1e-13</td>\n",
       "      <td>1.357e-05 ± 2.4e-09</td>\n",
       "      <td>100000</td>\n",
       "      <td>parton madevent</td>\n",
       "      <td>LHE</td>\n",
       "      <td>NaN</td>\n",
       "      <td>True</td>\n",
       "    </tr>\n",
       "    <tr>\n",
       "      <th>16</th>\n",
       "      <td>run12_of_14__ebeam1_15000_ebeam2_15000_G3L_-1e...</td>\n",
       "      <td>e+ e- 15000.0 x 15000.0 GeV</td>\n",
       "      <td>ee2zh_run13_ebeam1_15000_ebeam2_15000_G3L_-1e-13</td>\n",
       "      <td>1.353e-05 ± 2.4e-09</td>\n",
       "      <td>100000</td>\n",
       "      <td>parton madevent</td>\n",
       "      <td>LHE</td>\n",
       "      <td>NaN</td>\n",
       "      <td>True</td>\n",
       "    </tr>\n",
       "    <tr>\n",
       "      <th>17</th>\n",
       "      <td>run13_of_14__ebeam1_15000_ebeam2_15000_G3L_-1e...</td>\n",
       "      <td>e+ e- 15000.0 x 15000.0 GeV</td>\n",
       "      <td>ee2zh_run14_ebeam1_15000_ebeam2_15000_G3L_-1e-12</td>\n",
       "      <td>1.336e-05 ± 2.4e-09</td>\n",
       "      <td>100000</td>\n",
       "      <td>parton madevent</td>\n",
       "      <td>LHE</td>\n",
       "      <td>NaN</td>\n",
       "      <td>True</td>\n",
       "    </tr>\n",
       "    <tr>\n",
       "      <th>18</th>\n",
       "      <td>run14_of_14__ebeam1_15000_ebeam2_15000_G3L_-1e...</td>\n",
       "      <td>e+ e- 15000.0 x 15000.0 GeV</td>\n",
       "      <td>ee2zh_run15_ebeam1_15000_ebeam2_15000_G3L_-1e-11</td>\n",
       "      <td>1.178e-05 ± 2.2e-09</td>\n",
       "      <td>100000</td>\n",
       "      <td>parton madevent</td>\n",
       "      <td>LHE</td>\n",
       "      <td>NaN</td>\n",
       "      <td>True</td>\n",
       "    </tr>\n",
       "    <tr>\n",
       "      <th>19</th>\n",
       "      <td>run1_of_2__ebeam1_1500_ebeam2_1500_G3L_1e-10__...</td>\n",
       "      <td>e+ e- 1500.0 x 1500.0 GeV</td>\n",
       "      <td>ee2zh_run2_ebeam1_1500_ebeam2_1500_G3L_1e-10</td>\n",
       "      <td>0.001381 ± 2.5e-07</td>\n",
       "      <td>100000</td>\n",
       "      <td>parton madevent</td>\n",
       "      <td>LHE</td>\n",
       "      <td>NaN</td>\n",
       "      <td>True</td>\n",
       "    </tr>\n",
       "    <tr>\n",
       "      <th>20</th>\n",
       "      <td>run2_of_2__ebeam1_1500_ebeam2_1500_G3L_0__2019...</td>\n",
       "      <td>e+ e- 1500.0 x 1500.0 GeV</td>\n",
       "      <td>ee2zh_run3_ebeam1_1500_ebeam2_1500_G3L_0</td>\n",
       "      <td>0.001362 ± 2.5e-07</td>\n",
       "      <td>100000</td>\n",
       "      <td>parton madevent</td>\n",
       "      <td>LHE</td>\n",
       "      <td>NaN</td>\n",
       "      <td>True</td>\n",
       "    </tr>\n",
       "    <tr>\n",
       "      <th>21</th>\n",
       "      <td>run1_of_6__ebeam1_1500_ebeam2_1500_G3L_1e-8__2...</td>\n",
       "      <td>e+ e- 1500.0 x 1500.0 GeV</td>\n",
       "      <td>ee2zh_run2_ebeam1_1500_ebeam2_1500_G3L_1e-8</td>\n",
       "      <td>0.004425 ± 7.8e-07</td>\n",
       "      <td>100000</td>\n",
       "      <td>parton madevent</td>\n",
       "      <td>LHE</td>\n",
       "      <td>NaN</td>\n",
       "      <td>True</td>\n",
       "    </tr>\n",
       "    <tr>\n",
       "      <th>22</th>\n",
       "      <td>run2_of_6__ebeam1_1500_ebeam2_1500_G3L_-1e-8__...</td>\n",
       "      <td>e+ e- 1500.0 x 1500.0 GeV</td>\n",
       "      <td>ee2zh_run3_ebeam1_1500_ebeam2_1500_G3L_-1e-8</td>\n",
       "      <td>0.000634 ± 1.1e-07</td>\n",
       "      <td>100000</td>\n",
       "      <td>parton madevent</td>\n",
       "      <td>LHE</td>\n",
       "      <td>NaN</td>\n",
       "      <td>True</td>\n",
       "    </tr>\n",
       "    <tr>\n",
       "      <th>23</th>\n",
       "      <td>run3_of_6__ebeam1_7000_ebeam2_7000_G3L_1e-8__2...</td>\n",
       "      <td>e+ e- 7000.0 x 7000.0 GeV</td>\n",
       "      <td>ee2zh_run4_ebeam1_7000_ebeam2_7000_G3L_1e-8</td>\n",
       "      <td>0.02726 ± 4.7e-06</td>\n",
       "      <td>100000</td>\n",
       "      <td>parton madevent</td>\n",
       "      <td>LHE</td>\n",
       "      <td>NaN</td>\n",
       "      <td>True</td>\n",
       "    </tr>\n",
       "    <tr>\n",
       "      <th>24</th>\n",
       "      <td>run4_of_6__ebeam1_7000_ebeam2_7000_G3L_-1e-8__...</td>\n",
       "      <td>e+ e- 7000.0 x 7000.0 GeV</td>\n",
       "      <td>ee2zh_run5_ebeam1_7000_ebeam2_7000_G3L_-1e-8</td>\n",
       "      <td>0.02349 ± 4.1e-06</td>\n",
       "      <td>100000</td>\n",
       "      <td>parton madevent</td>\n",
       "      <td>LHE</td>\n",
       "      <td>NaN</td>\n",
       "      <td>True</td>\n",
       "    </tr>\n",
       "    <tr>\n",
       "      <th>25</th>\n",
       "      <td>run5_of_6__ebeam1_15000_ebeam2_15000_G3L_1e-8_...</td>\n",
       "      <td>e+ e- 15000.0 x 15000.0 GeV</td>\n",
       "      <td>ee2zh_run6_ebeam1_15000_ebeam2_15000_G3L_1e-8</td>\n",
       "      <td>0.1181 ± 2.1e-05</td>\n",
       "      <td>100000</td>\n",
       "      <td>parton madevent</td>\n",
       "      <td>LHE</td>\n",
       "      <td>NaN</td>\n",
       "      <td>True</td>\n",
       "    </tr>\n",
       "    <tr>\n",
       "      <th>26</th>\n",
       "      <td>run6_of_6__ebeam1_15000_ebeam2_15000_G3L_-1e-8...</td>\n",
       "      <td>e+ e- 15000.0 x 15000.0 GeV</td>\n",
       "      <td>ee2zh_run7_ebeam1_15000_ebeam2_15000_G3L_-1e-8</td>\n",
       "      <td>0.1143 ± 2e-05</td>\n",
       "      <td>100000</td>\n",
       "      <td>parton madevent</td>\n",
       "      <td>LHE</td>\n",
       "      <td>NaN</td>\n",
       "      <td>True</td>\n",
       "    </tr>\n",
       "  </tbody>\n",
       "</table>\n",
       "</div>"
      ],
      "text/plain": [
       "                                                  Run  \\\n",
       "1   run1_of_4__ebeam1_1500_ebeam2_1500_G3L_0__2019...   \n",
       "2   run2_of_4__ebeam1_1500_ebeam2_1500_G3L_1e-10__...   \n",
       "3   run3_of_4__ebeam1_1500_ebeam2_1500_G3L_1e-11__...   \n",
       "4   run4_of_4__ebeam1_1500_ebeam2_1500_G3L_1e-9__2...   \n",
       "5   run1_of_14__ebeam1_7000_ebeam2_7000_G3L_0__201...   \n",
       "6   run2_of_14__ebeam1_7000_ebeam2_7000_G3L_1e-11_...   \n",
       "7   run3_of_14__ebeam1_7000_ebeam2_7000_G3L_1e-12_...   \n",
       "8   run4_of_14__ebeam1_7000_ebeam2_7000_G3L_1e-13_...   \n",
       "9   run5_of_14__ebeam1_7000_ebeam2_7000_G3L_-1e-13...   \n",
       "10  run6_of_14__ebeam1_7000_ebeam2_7000_G3L_-1e-12...   \n",
       "11  run7_of_14__ebeam1_7000_ebeam2_7000_G3L_-1e-11...   \n",
       "12  run8_of_14__ebeam1_15000_ebeam2_15000_G3L_0__2...   \n",
       "13  run9_of_14__ebeam1_15000_ebeam2_15000_G3L_1e-1...   \n",
       "14  run10_of_14__ebeam1_15000_ebeam2_15000_G3L_1e-...   \n",
       "15  run11_of_14__ebeam1_15000_ebeam2_15000_G3L_1e-...   \n",
       "16  run12_of_14__ebeam1_15000_ebeam2_15000_G3L_-1e...   \n",
       "17  run13_of_14__ebeam1_15000_ebeam2_15000_G3L_-1e...   \n",
       "18  run14_of_14__ebeam1_15000_ebeam2_15000_G3L_-1e...   \n",
       "19  run1_of_2__ebeam1_1500_ebeam2_1500_G3L_1e-10__...   \n",
       "20  run2_of_2__ebeam1_1500_ebeam2_1500_G3L_0__2019...   \n",
       "21  run1_of_6__ebeam1_1500_ebeam2_1500_G3L_1e-8__2...   \n",
       "22  run2_of_6__ebeam1_1500_ebeam2_1500_G3L_-1e-8__...   \n",
       "23  run3_of_6__ebeam1_7000_ebeam2_7000_G3L_1e-8__2...   \n",
       "24  run4_of_6__ebeam1_7000_ebeam2_7000_G3L_-1e-8__...   \n",
       "25  run5_of_6__ebeam1_15000_ebeam2_15000_G3L_1e-8_...   \n",
       "26  run6_of_6__ebeam1_15000_ebeam2_15000_G3L_-1e-8...   \n",
       "\n",
       "                       Collider  \\\n",
       "1     e+ e- 1500.0 x 1500.0 GeV   \n",
       "2     e+ e- 1500.0 x 1500.0 GeV   \n",
       "3     e+ e- 1500.0 x 1500.0 GeV   \n",
       "4     e+ e- 1500.0 x 1500.0 GeV   \n",
       "5     e+ e- 7000.0 x 7000.0 GeV   \n",
       "6     e+ e- 7000.0 x 7000.0 GeV   \n",
       "7     e+ e- 7000.0 x 7000.0 GeV   \n",
       "8     e+ e- 7000.0 x 7000.0 GeV   \n",
       "9     e+ e- 7000.0 x 7000.0 GeV   \n",
       "10    e+ e- 7000.0 x 7000.0 GeV   \n",
       "11    e+ e- 7000.0 x 7000.0 GeV   \n",
       "12  e+ e- 15000.0 x 15000.0 GeV   \n",
       "13  e+ e- 15000.0 x 15000.0 GeV   \n",
       "14  e+ e- 15000.0 x 15000.0 GeV   \n",
       "15  e+ e- 15000.0 x 15000.0 GeV   \n",
       "16  e+ e- 15000.0 x 15000.0 GeV   \n",
       "17  e+ e- 15000.0 x 15000.0 GeV   \n",
       "18  e+ e- 15000.0 x 15000.0 GeV   \n",
       "19    e+ e- 1500.0 x 1500.0 GeV   \n",
       "20    e+ e- 1500.0 x 1500.0 GeV   \n",
       "21    e+ e- 1500.0 x 1500.0 GeV   \n",
       "22    e+ e- 1500.0 x 1500.0 GeV   \n",
       "23    e+ e- 7000.0 x 7000.0 GeV   \n",
       "24    e+ e- 7000.0 x 7000.0 GeV   \n",
       "25  e+ e- 15000.0 x 15000.0 GeV   \n",
       "26  e+ e- 15000.0 x 15000.0 GeV   \n",
       "\n",
       "                                              Banner   Cross section (pb)  \\\n",
       "1           ee2zh_run2_ebeam1_1500_ebeam2_1500_G3L_0   0.001362 ± 2.4e-07   \n",
       "2       ee2zh_run3_ebeam1_1500_ebeam2_1500_G3L_1e-10   0.001381 ± 2.4e-07   \n",
       "3       ee2zh_run4_ebeam1_1500_ebeam2_1500_G3L_1e-11   0.001363 ± 2.4e-07   \n",
       "4        ee2zh_run5_ebeam1_1500_ebeam2_1500_G3L_1e-9   0.001563 ± 2.9e-07   \n",
       "5           ee2zh_run2_ebeam1_7000_ebeam2_7000_G3L_0  6.226e-05 ± 1.1e-08   \n",
       "6       ee2zh_run3_ebeam1_7000_ebeam2_7000_G3L_1e-11  6.415e-05 ± 1.2e-08   \n",
       "7       ee2zh_run4_ebeam1_7000_ebeam2_7000_G3L_1e-12  6.243e-05 ± 1.2e-08   \n",
       "8       ee2zh_run5_ebeam1_7000_ebeam2_7000_G3L_1e-13  6.226e-05 ± 1.1e-08   \n",
       "9      ee2zh_run6_ebeam1_7000_ebeam2_7000_G3L_-1e-13  6.224e-05 ± 1.1e-08   \n",
       "10     ee2zh_run7_ebeam1_7000_ebeam2_7000_G3L_-1e-12  6.206e-05 ± 1.1e-08   \n",
       "11     ee2zh_run8_ebeam1_7000_ebeam2_7000_G3L_-1e-11  6.037e-05 ± 1.1e-08   \n",
       "12        ee2zh_run9_ebeam1_15000_ebeam2_15000_G3L_0  1.355e-05 ± 2.5e-09   \n",
       "13   ee2zh_run10_ebeam1_15000_ebeam2_15000_G3L_1e-11  1.555e-05 ± 2.8e-09   \n",
       "14   ee2zh_run11_ebeam1_15000_ebeam2_15000_G3L_1e-12  1.374e-05 ± 2.5e-09   \n",
       "15   ee2zh_run12_ebeam1_15000_ebeam2_15000_G3L_1e-13  1.357e-05 ± 2.4e-09   \n",
       "16  ee2zh_run13_ebeam1_15000_ebeam2_15000_G3L_-1e-13  1.353e-05 ± 2.4e-09   \n",
       "17  ee2zh_run14_ebeam1_15000_ebeam2_15000_G3L_-1e-12  1.336e-05 ± 2.4e-09   \n",
       "18  ee2zh_run15_ebeam1_15000_ebeam2_15000_G3L_-1e-11  1.178e-05 ± 2.2e-09   \n",
       "19      ee2zh_run2_ebeam1_1500_ebeam2_1500_G3L_1e-10   0.001381 ± 2.5e-07   \n",
       "20          ee2zh_run3_ebeam1_1500_ebeam2_1500_G3L_0   0.001362 ± 2.5e-07   \n",
       "21       ee2zh_run2_ebeam1_1500_ebeam2_1500_G3L_1e-8   0.004425 ± 7.8e-07   \n",
       "22      ee2zh_run3_ebeam1_1500_ebeam2_1500_G3L_-1e-8   0.000634 ± 1.1e-07   \n",
       "23       ee2zh_run4_ebeam1_7000_ebeam2_7000_G3L_1e-8    0.02726 ± 4.7e-06   \n",
       "24      ee2zh_run5_ebeam1_7000_ebeam2_7000_G3L_-1e-8    0.02349 ± 4.1e-06   \n",
       "25     ee2zh_run6_ebeam1_15000_ebeam2_15000_G3L_1e-8     0.1181 ± 2.1e-05   \n",
       "26    ee2zh_run7_ebeam1_15000_ebeam2_15000_G3L_-1e-8       0.1143 ± 2e-05   \n",
       "\n",
       "    Events             Data Output  Action  CleanBanner  \n",
       "1   100000  parton madevent    LHE     NaN         True  \n",
       "2   100000  parton madevent    LHE     NaN         True  \n",
       "3   100000  parton madevent    LHE     NaN         True  \n",
       "4   100000  parton madevent    LHE     NaN         True  \n",
       "5   100000  parton madevent    LHE     NaN         True  \n",
       "6   100000  parton madevent    LHE     NaN         True  \n",
       "7   100000  parton madevent    LHE     NaN         True  \n",
       "8   100000  parton madevent    LHE     NaN         True  \n",
       "9   100000  parton madevent    LHE     NaN         True  \n",
       "10  100000  parton madevent    LHE     NaN         True  \n",
       "11  100000  parton madevent    LHE     NaN         True  \n",
       "12  100000  parton madevent    LHE     NaN         True  \n",
       "13  100000  parton madevent    LHE     NaN         True  \n",
       "14  100000  parton madevent    LHE     NaN         True  \n",
       "15  100000  parton madevent    LHE     NaN         True  \n",
       "16  100000  parton madevent    LHE     NaN         True  \n",
       "17  100000  parton madevent    LHE     NaN         True  \n",
       "18  100000  parton madevent    LHE     NaN         True  \n",
       "19  100000  parton madevent    LHE     NaN         True  \n",
       "20  100000  parton madevent    LHE     NaN         True  \n",
       "21  100000  parton madevent    LHE     NaN         True  \n",
       "22  100000  parton madevent    LHE     NaN         True  \n",
       "23  100000  parton madevent    LHE     NaN         True  \n",
       "24  100000  parton madevent    LHE     NaN         True  \n",
       "25  100000  parton madevent    LHE     NaN         True  \n",
       "26  100000  parton madevent    LHE     NaN         True  "
      ]
     },
     "execution_count": 28,
     "metadata": {},
     "output_type": "execute_result"
    }
   ],
   "source": [
    "MGPage"
   ]
  },
  {
   "cell_type": "markdown",
   "metadata": {},
   "source": [
    "### Import data using function "
   ]
  },
  {
   "cell_type": "markdown",
   "metadata": {},
   "source": [
    "I have put this in my `utils.py`\n",
    "```python\n",
    "def MGPandasFromHTML(url):\n",
    "    MGpage=pd.read_html(url,header=0)[-1]\n",
    "    MGpage['CleanBanner']=MGpage['Banner'].apply(u.isstring)\n",
    "    MGPage=pd.DataFrame((MGpage[MGpage['Banner'].str.contains('run')]).query('CleanBanner==True'))\n",
    "    return MGPage\n",
    "```"
   ]
  },
  {
   "cell_type": "code",
   "execution_count": 18,
   "metadata": {
    "ExecuteTime": {
     "end_time": "2019-03-29T09:52:26.575535Z",
     "start_time": "2019-03-29T09:52:25.760954Z"
    }
   },
   "outputs": [],
   "source": [
    "MGPage=u.MGPandasFromHTML('http://localhost:7000/CLICwzX/ee2zh/crossx.html')"
   ]
  },
  {
   "cell_type": "code",
   "execution_count": 19,
   "metadata": {
    "ExecuteTime": {
     "end_time": "2019-03-29T09:52:28.043507Z",
     "start_time": "2019-03-29T09:52:28.020361Z"
    }
   },
   "outputs": [
    {
     "data": {
      "text/html": [
       "<div>\n",
       "<style scoped>\n",
       "    .dataframe tbody tr th:only-of-type {\n",
       "        vertical-align: middle;\n",
       "    }\n",
       "\n",
       "    .dataframe tbody tr th {\n",
       "        vertical-align: top;\n",
       "    }\n",
       "\n",
       "    .dataframe thead th {\n",
       "        text-align: right;\n",
       "    }\n",
       "</style>\n",
       "<table border=\"1\" class=\"dataframe\">\n",
       "  <thead>\n",
       "    <tr style=\"text-align: right;\">\n",
       "      <th></th>\n",
       "      <th>Run</th>\n",
       "      <th>Collider</th>\n",
       "      <th>Banner</th>\n",
       "      <th>Cross section (pb)</th>\n",
       "      <th>Events</th>\n",
       "      <th>Data</th>\n",
       "      <th>Output</th>\n",
       "      <th>Action</th>\n",
       "      <th>CleanBanner</th>\n",
       "    </tr>\n",
       "  </thead>\n",
       "  <tbody>\n",
       "    <tr>\n",
       "      <th>1</th>\n",
       "      <td>run1_of_4__ebeam1_1500_ebeam2_1500_G3L_0__2019...</td>\n",
       "      <td>e+ e- 1500.0 x 1500.0 GeV</td>\n",
       "      <td>ee2zh_run2_ebeam1_1500_ebeam2_1500_G3L_0</td>\n",
       "      <td>0.001362 ± 2.4e-07</td>\n",
       "      <td>100000</td>\n",
       "      <td>parton madevent</td>\n",
       "      <td>LHE</td>\n",
       "      <td>NaN</td>\n",
       "      <td>True</td>\n",
       "    </tr>\n",
       "    <tr>\n",
       "      <th>2</th>\n",
       "      <td>run2_of_4__ebeam1_1500_ebeam2_1500_G3L_1e-10__...</td>\n",
       "      <td>e+ e- 1500.0 x 1500.0 GeV</td>\n",
       "      <td>ee2zh_run3_ebeam1_1500_ebeam2_1500_G3L_1e-10</td>\n",
       "      <td>0.001381 ± 2.4e-07</td>\n",
       "      <td>100000</td>\n",
       "      <td>parton madevent</td>\n",
       "      <td>LHE</td>\n",
       "      <td>NaN</td>\n",
       "      <td>True</td>\n",
       "    </tr>\n",
       "    <tr>\n",
       "      <th>3</th>\n",
       "      <td>run3_of_4__ebeam1_1500_ebeam2_1500_G3L_1e-11__...</td>\n",
       "      <td>e+ e- 1500.0 x 1500.0 GeV</td>\n",
       "      <td>ee2zh_run4_ebeam1_1500_ebeam2_1500_G3L_1e-11</td>\n",
       "      <td>0.001363 ± 2.4e-07</td>\n",
       "      <td>100000</td>\n",
       "      <td>parton madevent</td>\n",
       "      <td>LHE</td>\n",
       "      <td>NaN</td>\n",
       "      <td>True</td>\n",
       "    </tr>\n",
       "    <tr>\n",
       "      <th>4</th>\n",
       "      <td>run4_of_4__ebeam1_1500_ebeam2_1500_G3L_1e-9__2...</td>\n",
       "      <td>e+ e- 1500.0 x 1500.0 GeV</td>\n",
       "      <td>ee2zh_run5_ebeam1_1500_ebeam2_1500_G3L_1e-9</td>\n",
       "      <td>0.001563 ± 2.9e-07</td>\n",
       "      <td>100000</td>\n",
       "      <td>parton madevent</td>\n",
       "      <td>LHE</td>\n",
       "      <td>NaN</td>\n",
       "      <td>True</td>\n",
       "    </tr>\n",
       "    <tr>\n",
       "      <th>5</th>\n",
       "      <td>run1_of_14__ebeam1_7000_ebeam2_7000_G3L_0__201...</td>\n",
       "      <td>e+ e- 7000.0 x 7000.0 GeV</td>\n",
       "      <td>ee2zh_run2_ebeam1_7000_ebeam2_7000_G3L_0</td>\n",
       "      <td>6.226e-05 ± 1.1e-08</td>\n",
       "      <td>100000</td>\n",
       "      <td>parton madevent</td>\n",
       "      <td>LHE</td>\n",
       "      <td>NaN</td>\n",
       "      <td>True</td>\n",
       "    </tr>\n",
       "    <tr>\n",
       "      <th>6</th>\n",
       "      <td>run2_of_14__ebeam1_7000_ebeam2_7000_G3L_1e-11_...</td>\n",
       "      <td>e+ e- 7000.0 x 7000.0 GeV</td>\n",
       "      <td>ee2zh_run3_ebeam1_7000_ebeam2_7000_G3L_1e-11</td>\n",
       "      <td>6.415e-05 ± 1.2e-08</td>\n",
       "      <td>100000</td>\n",
       "      <td>parton madevent</td>\n",
       "      <td>LHE</td>\n",
       "      <td>NaN</td>\n",
       "      <td>True</td>\n",
       "    </tr>\n",
       "    <tr>\n",
       "      <th>7</th>\n",
       "      <td>run3_of_14__ebeam1_7000_ebeam2_7000_G3L_1e-12_...</td>\n",
       "      <td>e+ e- 7000.0 x 7000.0 GeV</td>\n",
       "      <td>ee2zh_run4_ebeam1_7000_ebeam2_7000_G3L_1e-12</td>\n",
       "      <td>6.243e-05 ± 1.2e-08</td>\n",
       "      <td>100000</td>\n",
       "      <td>parton madevent</td>\n",
       "      <td>LHE</td>\n",
       "      <td>NaN</td>\n",
       "      <td>True</td>\n",
       "    </tr>\n",
       "    <tr>\n",
       "      <th>8</th>\n",
       "      <td>run4_of_14__ebeam1_7000_ebeam2_7000_G3L_1e-13_...</td>\n",
       "      <td>e+ e- 7000.0 x 7000.0 GeV</td>\n",
       "      <td>ee2zh_run5_ebeam1_7000_ebeam2_7000_G3L_1e-13</td>\n",
       "      <td>6.226e-05 ± 1.1e-08</td>\n",
       "      <td>100000</td>\n",
       "      <td>parton madevent</td>\n",
       "      <td>LHE</td>\n",
       "      <td>NaN</td>\n",
       "      <td>True</td>\n",
       "    </tr>\n",
       "    <tr>\n",
       "      <th>9</th>\n",
       "      <td>run5_of_14__ebeam1_7000_ebeam2_7000_G3L_-1e-13...</td>\n",
       "      <td>e+ e- 7000.0 x 7000.0 GeV</td>\n",
       "      <td>ee2zh_run6_ebeam1_7000_ebeam2_7000_G3L_-1e-13</td>\n",
       "      <td>6.224e-05 ± 1.1e-08</td>\n",
       "      <td>100000</td>\n",
       "      <td>parton madevent</td>\n",
       "      <td>LHE</td>\n",
       "      <td>NaN</td>\n",
       "      <td>True</td>\n",
       "    </tr>\n",
       "    <tr>\n",
       "      <th>10</th>\n",
       "      <td>run6_of_14__ebeam1_7000_ebeam2_7000_G3L_-1e-12...</td>\n",
       "      <td>e+ e- 7000.0 x 7000.0 GeV</td>\n",
       "      <td>ee2zh_run7_ebeam1_7000_ebeam2_7000_G3L_-1e-12</td>\n",
       "      <td>6.206e-05 ± 1.1e-08</td>\n",
       "      <td>100000</td>\n",
       "      <td>parton madevent</td>\n",
       "      <td>LHE</td>\n",
       "      <td>NaN</td>\n",
       "      <td>True</td>\n",
       "    </tr>\n",
       "    <tr>\n",
       "      <th>11</th>\n",
       "      <td>run7_of_14__ebeam1_7000_ebeam2_7000_G3L_-1e-11...</td>\n",
       "      <td>e+ e- 7000.0 x 7000.0 GeV</td>\n",
       "      <td>ee2zh_run8_ebeam1_7000_ebeam2_7000_G3L_-1e-11</td>\n",
       "      <td>6.037e-05 ± 1.1e-08</td>\n",
       "      <td>100000</td>\n",
       "      <td>parton madevent</td>\n",
       "      <td>LHE</td>\n",
       "      <td>NaN</td>\n",
       "      <td>True</td>\n",
       "    </tr>\n",
       "    <tr>\n",
       "      <th>12</th>\n",
       "      <td>run8_of_14__ebeam1_15000_ebeam2_15000_G3L_0__2...</td>\n",
       "      <td>e+ e- 15000.0 x 15000.0 GeV</td>\n",
       "      <td>ee2zh_run9_ebeam1_15000_ebeam2_15000_G3L_0</td>\n",
       "      <td>1.355e-05 ± 2.5e-09</td>\n",
       "      <td>100000</td>\n",
       "      <td>parton madevent</td>\n",
       "      <td>LHE</td>\n",
       "      <td>NaN</td>\n",
       "      <td>True</td>\n",
       "    </tr>\n",
       "    <tr>\n",
       "      <th>13</th>\n",
       "      <td>run9_of_14__ebeam1_15000_ebeam2_15000_G3L_1e-1...</td>\n",
       "      <td>e+ e- 15000.0 x 15000.0 GeV</td>\n",
       "      <td>ee2zh_run10_ebeam1_15000_ebeam2_15000_G3L_1e-11</td>\n",
       "      <td>1.555e-05 ± 2.8e-09</td>\n",
       "      <td>100000</td>\n",
       "      <td>parton madevent</td>\n",
       "      <td>LHE</td>\n",
       "      <td>NaN</td>\n",
       "      <td>True</td>\n",
       "    </tr>\n",
       "    <tr>\n",
       "      <th>14</th>\n",
       "      <td>run10_of_14__ebeam1_15000_ebeam2_15000_G3L_1e-...</td>\n",
       "      <td>e+ e- 15000.0 x 15000.0 GeV</td>\n",
       "      <td>ee2zh_run11_ebeam1_15000_ebeam2_15000_G3L_1e-12</td>\n",
       "      <td>1.374e-05 ± 2.5e-09</td>\n",
       "      <td>100000</td>\n",
       "      <td>parton madevent</td>\n",
       "      <td>LHE</td>\n",
       "      <td>NaN</td>\n",
       "      <td>True</td>\n",
       "    </tr>\n",
       "    <tr>\n",
       "      <th>15</th>\n",
       "      <td>run11_of_14__ebeam1_15000_ebeam2_15000_G3L_1e-...</td>\n",
       "      <td>e+ e- 15000.0 x 15000.0 GeV</td>\n",
       "      <td>ee2zh_run12_ebeam1_15000_ebeam2_15000_G3L_1e-13</td>\n",
       "      <td>1.357e-05 ± 2.4e-09</td>\n",
       "      <td>100000</td>\n",
       "      <td>parton madevent</td>\n",
       "      <td>LHE</td>\n",
       "      <td>NaN</td>\n",
       "      <td>True</td>\n",
       "    </tr>\n",
       "    <tr>\n",
       "      <th>16</th>\n",
       "      <td>run12_of_14__ebeam1_15000_ebeam2_15000_G3L_-1e...</td>\n",
       "      <td>e+ e- 15000.0 x 15000.0 GeV</td>\n",
       "      <td>ee2zh_run13_ebeam1_15000_ebeam2_15000_G3L_-1e-13</td>\n",
       "      <td>1.353e-05 ± 2.4e-09</td>\n",
       "      <td>100000</td>\n",
       "      <td>parton madevent</td>\n",
       "      <td>LHE</td>\n",
       "      <td>NaN</td>\n",
       "      <td>True</td>\n",
       "    </tr>\n",
       "    <tr>\n",
       "      <th>17</th>\n",
       "      <td>run13_of_14__ebeam1_15000_ebeam2_15000_G3L_-1e...</td>\n",
       "      <td>e+ e- 15000.0 x 15000.0 GeV</td>\n",
       "      <td>ee2zh_run14_ebeam1_15000_ebeam2_15000_G3L_-1e-12</td>\n",
       "      <td>1.336e-05 ± 2.4e-09</td>\n",
       "      <td>100000</td>\n",
       "      <td>parton madevent</td>\n",
       "      <td>LHE</td>\n",
       "      <td>NaN</td>\n",
       "      <td>True</td>\n",
       "    </tr>\n",
       "    <tr>\n",
       "      <th>18</th>\n",
       "      <td>run14_of_14__ebeam1_15000_ebeam2_15000_G3L_-1e...</td>\n",
       "      <td>e+ e- 15000.0 x 15000.0 GeV</td>\n",
       "      <td>ee2zh_run15_ebeam1_15000_ebeam2_15000_G3L_-1e-11</td>\n",
       "      <td>1.178e-05 ± 2.2e-09</td>\n",
       "      <td>100000</td>\n",
       "      <td>parton madevent</td>\n",
       "      <td>LHE</td>\n",
       "      <td>NaN</td>\n",
       "      <td>True</td>\n",
       "    </tr>\n",
       "    <tr>\n",
       "      <th>19</th>\n",
       "      <td>run1_of_2__ebeam1_1500_ebeam2_1500_G3L_1e-10__...</td>\n",
       "      <td>e+ e- 1500.0 x 1500.0 GeV</td>\n",
       "      <td>ee2zh_run2_ebeam1_1500_ebeam2_1500_G3L_1e-10</td>\n",
       "      <td>0.001381 ± 2.5e-07</td>\n",
       "      <td>100000</td>\n",
       "      <td>parton madevent</td>\n",
       "      <td>LHE</td>\n",
       "      <td>NaN</td>\n",
       "      <td>True</td>\n",
       "    </tr>\n",
       "    <tr>\n",
       "      <th>20</th>\n",
       "      <td>run2_of_2__ebeam1_1500_ebeam2_1500_G3L_0__2019...</td>\n",
       "      <td>e+ e- 1500.0 x 1500.0 GeV</td>\n",
       "      <td>ee2zh_run3_ebeam1_1500_ebeam2_1500_G3L_0</td>\n",
       "      <td>0.001362 ± 2.5e-07</td>\n",
       "      <td>100000</td>\n",
       "      <td>parton madevent</td>\n",
       "      <td>LHE</td>\n",
       "      <td>NaN</td>\n",
       "      <td>True</td>\n",
       "    </tr>\n",
       "    <tr>\n",
       "      <th>21</th>\n",
       "      <td>run1_of_6__ebeam1_1500_ebeam2_1500_G3L_1e-8__2...</td>\n",
       "      <td>e+ e- 1500.0 x 1500.0 GeV</td>\n",
       "      <td>ee2zh_run2_ebeam1_1500_ebeam2_1500_G3L_1e-8</td>\n",
       "      <td>0.004425 ± 7.8e-07</td>\n",
       "      <td>100000</td>\n",
       "      <td>parton madevent</td>\n",
       "      <td>LHE</td>\n",
       "      <td>NaN</td>\n",
       "      <td>True</td>\n",
       "    </tr>\n",
       "    <tr>\n",
       "      <th>22</th>\n",
       "      <td>run2_of_6__ebeam1_1500_ebeam2_1500_G3L_-1e-8__...</td>\n",
       "      <td>e+ e- 1500.0 x 1500.0 GeV</td>\n",
       "      <td>ee2zh_run3_ebeam1_1500_ebeam2_1500_G3L_-1e-8</td>\n",
       "      <td>0.000634 ± 1.1e-07</td>\n",
       "      <td>100000</td>\n",
       "      <td>parton madevent</td>\n",
       "      <td>LHE</td>\n",
       "      <td>NaN</td>\n",
       "      <td>True</td>\n",
       "    </tr>\n",
       "    <tr>\n",
       "      <th>23</th>\n",
       "      <td>run3_of_6__ebeam1_7000_ebeam2_7000_G3L_1e-8__2...</td>\n",
       "      <td>e+ e- 7000.0 x 7000.0 GeV</td>\n",
       "      <td>ee2zh_run4_ebeam1_7000_ebeam2_7000_G3L_1e-8</td>\n",
       "      <td>0.02726 ± 4.7e-06</td>\n",
       "      <td>100000</td>\n",
       "      <td>parton madevent</td>\n",
       "      <td>LHE</td>\n",
       "      <td>NaN</td>\n",
       "      <td>True</td>\n",
       "    </tr>\n",
       "    <tr>\n",
       "      <th>24</th>\n",
       "      <td>run4_of_6__ebeam1_7000_ebeam2_7000_G3L_-1e-8__...</td>\n",
       "      <td>e+ e- 7000.0 x 7000.0 GeV</td>\n",
       "      <td>ee2zh_run5_ebeam1_7000_ebeam2_7000_G3L_-1e-8</td>\n",
       "      <td>0.02349 ± 4.1e-06</td>\n",
       "      <td>100000</td>\n",
       "      <td>parton madevent</td>\n",
       "      <td>LHE</td>\n",
       "      <td>NaN</td>\n",
       "      <td>True</td>\n",
       "    </tr>\n",
       "    <tr>\n",
       "      <th>25</th>\n",
       "      <td>run5_of_6__ebeam1_15000_ebeam2_15000_G3L_1e-8_...</td>\n",
       "      <td>e+ e- 15000.0 x 15000.0 GeV</td>\n",
       "      <td>ee2zh_run6_ebeam1_15000_ebeam2_15000_G3L_1e-8</td>\n",
       "      <td>0.1181 ± 2.1e-05</td>\n",
       "      <td>100000</td>\n",
       "      <td>parton madevent</td>\n",
       "      <td>LHE</td>\n",
       "      <td>NaN</td>\n",
       "      <td>True</td>\n",
       "    </tr>\n",
       "    <tr>\n",
       "      <th>26</th>\n",
       "      <td>run6_of_6__ebeam1_15000_ebeam2_15000_G3L_-1e-8...</td>\n",
       "      <td>e+ e- 15000.0 x 15000.0 GeV</td>\n",
       "      <td>ee2zh_run7_ebeam1_15000_ebeam2_15000_G3L_-1e-8</td>\n",
       "      <td>0.1143 ± 2e-05</td>\n",
       "      <td>100000</td>\n",
       "      <td>parton madevent</td>\n",
       "      <td>LHE</td>\n",
       "      <td>NaN</td>\n",
       "      <td>True</td>\n",
       "    </tr>\n",
       "    <tr>\n",
       "      <th>27</th>\n",
       "      <td>run1_of_4__ebeam1_7000_ebeam2_7000_G3L_1e-9__2...</td>\n",
       "      <td>e+ e- 7000.0 x 7000.0 GeV</td>\n",
       "      <td>ee2zh_run2_ebeam1_7000_ebeam2_7000_G3L_1e-9</td>\n",
       "      <td>0.0005039 ± 9.1e-08</td>\n",
       "      <td>100000</td>\n",
       "      <td>parton madevent</td>\n",
       "      <td>LHE</td>\n",
       "      <td>NaN</td>\n",
       "      <td>True</td>\n",
       "    </tr>\n",
       "    <tr>\n",
       "      <th>28</th>\n",
       "      <td>run2_of_4__ebeam1_7000_ebeam2_7000_G3L_-1e-9__...</td>\n",
       "      <td>e+ e- 7000.0 x 7000.0 GeV</td>\n",
       "      <td>ee2zh_run3_ebeam1_7000_ebeam2_7000_G3L_-1e-9</td>\n",
       "      <td>0.0001267 ± 2.3e-08</td>\n",
       "      <td>100000</td>\n",
       "      <td>parton madevent</td>\n",
       "      <td>LHE</td>\n",
       "      <td>NaN</td>\n",
       "      <td>True</td>\n",
       "    </tr>\n",
       "    <tr>\n",
       "      <th>29</th>\n",
       "      <td>run3_of_4__ebeam1_15000_ebeam2_15000_G3L_1e-9_...</td>\n",
       "      <td>e+ e- 15000.0 x 15000.0 GeV</td>\n",
       "      <td>ee2zh_run4_ebeam1_15000_ebeam2_15000_G3L_1e-9</td>\n",
       "      <td>0.001364 ± 2.5e-07</td>\n",
       "      <td>100000</td>\n",
       "      <td>parton madevent</td>\n",
       "      <td>LHE</td>\n",
       "      <td>NaN</td>\n",
       "      <td>True</td>\n",
       "    </tr>\n",
       "    <tr>\n",
       "      <th>30</th>\n",
       "      <td>run4_of_4__ebeam1_15000_ebeam2_15000_G3L_-1e-9...</td>\n",
       "      <td>e+ e- 15000.0 x 15000.0 GeV</td>\n",
       "      <td>ee2zh_run5_ebeam1_15000_ebeam2_15000_G3L_-1e-9</td>\n",
       "      <td>0.0009874 ± 1.7e-07</td>\n",
       "      <td>100000</td>\n",
       "      <td>parton madevent</td>\n",
       "      <td>LHE</td>\n",
       "      <td>NaN</td>\n",
       "      <td>True</td>\n",
       "    </tr>\n",
       "    <tr>\n",
       "      <th>31</th>\n",
       "      <td>run1_of_4__ebeam1_7000_ebeam2_7000_G3L_3e-9__2...</td>\n",
       "      <td>e+ e- 7000.0 x 7000.0 GeV</td>\n",
       "      <td>ee2zh_run2_ebeam1_7000_ebeam2_7000_G3L_3e-9</td>\n",
       "      <td>0.002906 ± 5.2e-07</td>\n",
       "      <td>100000</td>\n",
       "      <td>parton madevent</td>\n",
       "      <td>LHE</td>\n",
       "      <td>NaN</td>\n",
       "      <td>True</td>\n",
       "    </tr>\n",
       "    <tr>\n",
       "      <th>32</th>\n",
       "      <td>run2_of_4__ebeam1_7000_ebeam2_7000_G3L_-3e-9__...</td>\n",
       "      <td>e+ e- 7000.0 x 7000.0 GeV</td>\n",
       "      <td>ee2zh_run3_ebeam1_7000_ebeam2_7000_G3L_-3e-9</td>\n",
       "      <td>0.001774 ± 3.1e-07</td>\n",
       "      <td>100000</td>\n",
       "      <td>parton madevent</td>\n",
       "      <td>LHE</td>\n",
       "      <td>NaN</td>\n",
       "      <td>True</td>\n",
       "    </tr>\n",
       "    <tr>\n",
       "      <th>33</th>\n",
       "      <td>run3_of_4__ebeam1_15000_ebeam2_15000_G3L_3e-9_...</td>\n",
       "      <td>e+ e- 15000.0 x 15000.0 GeV</td>\n",
       "      <td>ee2zh_run4_ebeam1_15000_ebeam2_15000_G3L_3e-9</td>\n",
       "      <td>0.01104 ± 2e-06</td>\n",
       "      <td>100000</td>\n",
       "      <td>parton madevent</td>\n",
       "      <td>LHE</td>\n",
       "      <td>NaN</td>\n",
       "      <td>True</td>\n",
       "    </tr>\n",
       "    <tr>\n",
       "      <th>34</th>\n",
       "      <td>run4_of_4__ebeam1_15000_ebeam2_15000_G3L_-3e-9...</td>\n",
       "      <td>e+ e- 15000.0 x 15000.0 GeV</td>\n",
       "      <td>ee2zh_run5_ebeam1_15000_ebeam2_15000_G3L_-3e-9</td>\n",
       "      <td>0.009906 ± 1.8e-06</td>\n",
       "      <td>100000</td>\n",
       "      <td>parton madevent</td>\n",
       "      <td>LHE</td>\n",
       "      <td>NaN</td>\n",
       "      <td>True</td>\n",
       "    </tr>\n",
       "  </tbody>\n",
       "</table>\n",
       "</div>"
      ],
      "text/plain": [
       "                                                  Run  \\\n",
       "1   run1_of_4__ebeam1_1500_ebeam2_1500_G3L_0__2019...   \n",
       "2   run2_of_4__ebeam1_1500_ebeam2_1500_G3L_1e-10__...   \n",
       "3   run3_of_4__ebeam1_1500_ebeam2_1500_G3L_1e-11__...   \n",
       "4   run4_of_4__ebeam1_1500_ebeam2_1500_G3L_1e-9__2...   \n",
       "5   run1_of_14__ebeam1_7000_ebeam2_7000_G3L_0__201...   \n",
       "6   run2_of_14__ebeam1_7000_ebeam2_7000_G3L_1e-11_...   \n",
       "7   run3_of_14__ebeam1_7000_ebeam2_7000_G3L_1e-12_...   \n",
       "8   run4_of_14__ebeam1_7000_ebeam2_7000_G3L_1e-13_...   \n",
       "9   run5_of_14__ebeam1_7000_ebeam2_7000_G3L_-1e-13...   \n",
       "10  run6_of_14__ebeam1_7000_ebeam2_7000_G3L_-1e-12...   \n",
       "11  run7_of_14__ebeam1_7000_ebeam2_7000_G3L_-1e-11...   \n",
       "12  run8_of_14__ebeam1_15000_ebeam2_15000_G3L_0__2...   \n",
       "13  run9_of_14__ebeam1_15000_ebeam2_15000_G3L_1e-1...   \n",
       "14  run10_of_14__ebeam1_15000_ebeam2_15000_G3L_1e-...   \n",
       "15  run11_of_14__ebeam1_15000_ebeam2_15000_G3L_1e-...   \n",
       "16  run12_of_14__ebeam1_15000_ebeam2_15000_G3L_-1e...   \n",
       "17  run13_of_14__ebeam1_15000_ebeam2_15000_G3L_-1e...   \n",
       "18  run14_of_14__ebeam1_15000_ebeam2_15000_G3L_-1e...   \n",
       "19  run1_of_2__ebeam1_1500_ebeam2_1500_G3L_1e-10__...   \n",
       "20  run2_of_2__ebeam1_1500_ebeam2_1500_G3L_0__2019...   \n",
       "21  run1_of_6__ebeam1_1500_ebeam2_1500_G3L_1e-8__2...   \n",
       "22  run2_of_6__ebeam1_1500_ebeam2_1500_G3L_-1e-8__...   \n",
       "23  run3_of_6__ebeam1_7000_ebeam2_7000_G3L_1e-8__2...   \n",
       "24  run4_of_6__ebeam1_7000_ebeam2_7000_G3L_-1e-8__...   \n",
       "25  run5_of_6__ebeam1_15000_ebeam2_15000_G3L_1e-8_...   \n",
       "26  run6_of_6__ebeam1_15000_ebeam2_15000_G3L_-1e-8...   \n",
       "27  run1_of_4__ebeam1_7000_ebeam2_7000_G3L_1e-9__2...   \n",
       "28  run2_of_4__ebeam1_7000_ebeam2_7000_G3L_-1e-9__...   \n",
       "29  run3_of_4__ebeam1_15000_ebeam2_15000_G3L_1e-9_...   \n",
       "30  run4_of_4__ebeam1_15000_ebeam2_15000_G3L_-1e-9...   \n",
       "31  run1_of_4__ebeam1_7000_ebeam2_7000_G3L_3e-9__2...   \n",
       "32  run2_of_4__ebeam1_7000_ebeam2_7000_G3L_-3e-9__...   \n",
       "33  run3_of_4__ebeam1_15000_ebeam2_15000_G3L_3e-9_...   \n",
       "34  run4_of_4__ebeam1_15000_ebeam2_15000_G3L_-3e-9...   \n",
       "\n",
       "                       Collider  \\\n",
       "1     e+ e- 1500.0 x 1500.0 GeV   \n",
       "2     e+ e- 1500.0 x 1500.0 GeV   \n",
       "3     e+ e- 1500.0 x 1500.0 GeV   \n",
       "4     e+ e- 1500.0 x 1500.0 GeV   \n",
       "5     e+ e- 7000.0 x 7000.0 GeV   \n",
       "6     e+ e- 7000.0 x 7000.0 GeV   \n",
       "7     e+ e- 7000.0 x 7000.0 GeV   \n",
       "8     e+ e- 7000.0 x 7000.0 GeV   \n",
       "9     e+ e- 7000.0 x 7000.0 GeV   \n",
       "10    e+ e- 7000.0 x 7000.0 GeV   \n",
       "11    e+ e- 7000.0 x 7000.0 GeV   \n",
       "12  e+ e- 15000.0 x 15000.0 GeV   \n",
       "13  e+ e- 15000.0 x 15000.0 GeV   \n",
       "14  e+ e- 15000.0 x 15000.0 GeV   \n",
       "15  e+ e- 15000.0 x 15000.0 GeV   \n",
       "16  e+ e- 15000.0 x 15000.0 GeV   \n",
       "17  e+ e- 15000.0 x 15000.0 GeV   \n",
       "18  e+ e- 15000.0 x 15000.0 GeV   \n",
       "19    e+ e- 1500.0 x 1500.0 GeV   \n",
       "20    e+ e- 1500.0 x 1500.0 GeV   \n",
       "21    e+ e- 1500.0 x 1500.0 GeV   \n",
       "22    e+ e- 1500.0 x 1500.0 GeV   \n",
       "23    e+ e- 7000.0 x 7000.0 GeV   \n",
       "24    e+ e- 7000.0 x 7000.0 GeV   \n",
       "25  e+ e- 15000.0 x 15000.0 GeV   \n",
       "26  e+ e- 15000.0 x 15000.0 GeV   \n",
       "27    e+ e- 7000.0 x 7000.0 GeV   \n",
       "28    e+ e- 7000.0 x 7000.0 GeV   \n",
       "29  e+ e- 15000.0 x 15000.0 GeV   \n",
       "30  e+ e- 15000.0 x 15000.0 GeV   \n",
       "31    e+ e- 7000.0 x 7000.0 GeV   \n",
       "32    e+ e- 7000.0 x 7000.0 GeV   \n",
       "33  e+ e- 15000.0 x 15000.0 GeV   \n",
       "34  e+ e- 15000.0 x 15000.0 GeV   \n",
       "\n",
       "                                              Banner   Cross section (pb)  \\\n",
       "1           ee2zh_run2_ebeam1_1500_ebeam2_1500_G3L_0   0.001362 ± 2.4e-07   \n",
       "2       ee2zh_run3_ebeam1_1500_ebeam2_1500_G3L_1e-10   0.001381 ± 2.4e-07   \n",
       "3       ee2zh_run4_ebeam1_1500_ebeam2_1500_G3L_1e-11   0.001363 ± 2.4e-07   \n",
       "4        ee2zh_run5_ebeam1_1500_ebeam2_1500_G3L_1e-9   0.001563 ± 2.9e-07   \n",
       "5           ee2zh_run2_ebeam1_7000_ebeam2_7000_G3L_0  6.226e-05 ± 1.1e-08   \n",
       "6       ee2zh_run3_ebeam1_7000_ebeam2_7000_G3L_1e-11  6.415e-05 ± 1.2e-08   \n",
       "7       ee2zh_run4_ebeam1_7000_ebeam2_7000_G3L_1e-12  6.243e-05 ± 1.2e-08   \n",
       "8       ee2zh_run5_ebeam1_7000_ebeam2_7000_G3L_1e-13  6.226e-05 ± 1.1e-08   \n",
       "9      ee2zh_run6_ebeam1_7000_ebeam2_7000_G3L_-1e-13  6.224e-05 ± 1.1e-08   \n",
       "10     ee2zh_run7_ebeam1_7000_ebeam2_7000_G3L_-1e-12  6.206e-05 ± 1.1e-08   \n",
       "11     ee2zh_run8_ebeam1_7000_ebeam2_7000_G3L_-1e-11  6.037e-05 ± 1.1e-08   \n",
       "12        ee2zh_run9_ebeam1_15000_ebeam2_15000_G3L_0  1.355e-05 ± 2.5e-09   \n",
       "13   ee2zh_run10_ebeam1_15000_ebeam2_15000_G3L_1e-11  1.555e-05 ± 2.8e-09   \n",
       "14   ee2zh_run11_ebeam1_15000_ebeam2_15000_G3L_1e-12  1.374e-05 ± 2.5e-09   \n",
       "15   ee2zh_run12_ebeam1_15000_ebeam2_15000_G3L_1e-13  1.357e-05 ± 2.4e-09   \n",
       "16  ee2zh_run13_ebeam1_15000_ebeam2_15000_G3L_-1e-13  1.353e-05 ± 2.4e-09   \n",
       "17  ee2zh_run14_ebeam1_15000_ebeam2_15000_G3L_-1e-12  1.336e-05 ± 2.4e-09   \n",
       "18  ee2zh_run15_ebeam1_15000_ebeam2_15000_G3L_-1e-11  1.178e-05 ± 2.2e-09   \n",
       "19      ee2zh_run2_ebeam1_1500_ebeam2_1500_G3L_1e-10   0.001381 ± 2.5e-07   \n",
       "20          ee2zh_run3_ebeam1_1500_ebeam2_1500_G3L_0   0.001362 ± 2.5e-07   \n",
       "21       ee2zh_run2_ebeam1_1500_ebeam2_1500_G3L_1e-8   0.004425 ± 7.8e-07   \n",
       "22      ee2zh_run3_ebeam1_1500_ebeam2_1500_G3L_-1e-8   0.000634 ± 1.1e-07   \n",
       "23       ee2zh_run4_ebeam1_7000_ebeam2_7000_G3L_1e-8    0.02726 ± 4.7e-06   \n",
       "24      ee2zh_run5_ebeam1_7000_ebeam2_7000_G3L_-1e-8    0.02349 ± 4.1e-06   \n",
       "25     ee2zh_run6_ebeam1_15000_ebeam2_15000_G3L_1e-8     0.1181 ± 2.1e-05   \n",
       "26    ee2zh_run7_ebeam1_15000_ebeam2_15000_G3L_-1e-8       0.1143 ± 2e-05   \n",
       "27       ee2zh_run2_ebeam1_7000_ebeam2_7000_G3L_1e-9  0.0005039 ± 9.1e-08   \n",
       "28      ee2zh_run3_ebeam1_7000_ebeam2_7000_G3L_-1e-9  0.0001267 ± 2.3e-08   \n",
       "29     ee2zh_run4_ebeam1_15000_ebeam2_15000_G3L_1e-9   0.001364 ± 2.5e-07   \n",
       "30    ee2zh_run5_ebeam1_15000_ebeam2_15000_G3L_-1e-9  0.0009874 ± 1.7e-07   \n",
       "31       ee2zh_run2_ebeam1_7000_ebeam2_7000_G3L_3e-9   0.002906 ± 5.2e-07   \n",
       "32      ee2zh_run3_ebeam1_7000_ebeam2_7000_G3L_-3e-9   0.001774 ± 3.1e-07   \n",
       "33     ee2zh_run4_ebeam1_15000_ebeam2_15000_G3L_3e-9      0.01104 ± 2e-06   \n",
       "34    ee2zh_run5_ebeam1_15000_ebeam2_15000_G3L_-3e-9   0.009906 ± 1.8e-06   \n",
       "\n",
       "    Events             Data Output  Action  CleanBanner  \n",
       "1   100000  parton madevent    LHE     NaN         True  \n",
       "2   100000  parton madevent    LHE     NaN         True  \n",
       "3   100000  parton madevent    LHE     NaN         True  \n",
       "4   100000  parton madevent    LHE     NaN         True  \n",
       "5   100000  parton madevent    LHE     NaN         True  \n",
       "6   100000  parton madevent    LHE     NaN         True  \n",
       "7   100000  parton madevent    LHE     NaN         True  \n",
       "8   100000  parton madevent    LHE     NaN         True  \n",
       "9   100000  parton madevent    LHE     NaN         True  \n",
       "10  100000  parton madevent    LHE     NaN         True  \n",
       "11  100000  parton madevent    LHE     NaN         True  \n",
       "12  100000  parton madevent    LHE     NaN         True  \n",
       "13  100000  parton madevent    LHE     NaN         True  \n",
       "14  100000  parton madevent    LHE     NaN         True  \n",
       "15  100000  parton madevent    LHE     NaN         True  \n",
       "16  100000  parton madevent    LHE     NaN         True  \n",
       "17  100000  parton madevent    LHE     NaN         True  \n",
       "18  100000  parton madevent    LHE     NaN         True  \n",
       "19  100000  parton madevent    LHE     NaN         True  \n",
       "20  100000  parton madevent    LHE     NaN         True  \n",
       "21  100000  parton madevent    LHE     NaN         True  \n",
       "22  100000  parton madevent    LHE     NaN         True  \n",
       "23  100000  parton madevent    LHE     NaN         True  \n",
       "24  100000  parton madevent    LHE     NaN         True  \n",
       "25  100000  parton madevent    LHE     NaN         True  \n",
       "26  100000  parton madevent    LHE     NaN         True  \n",
       "27  100000  parton madevent    LHE     NaN         True  \n",
       "28  100000  parton madevent    LHE     NaN         True  \n",
       "29  100000  parton madevent    LHE     NaN         True  \n",
       "30  100000  parton madevent    LHE     NaN         True  \n",
       "31  100000  parton madevent    LHE     NaN         True  \n",
       "32  100000  parton madevent    LHE     NaN         True  \n",
       "33  100000  parton madevent    LHE     NaN         True  \n",
       "34  100000  parton madevent    LHE     NaN         True  "
      ]
     },
     "execution_count": 19,
     "metadata": {},
     "output_type": "execute_result"
    }
   ],
   "source": [
    "MGPage"
   ]
  },
  {
   "cell_type": "markdown",
   "metadata": {
    "heading_collapsed": true
   },
   "source": [
    "### Create necessary new columns"
   ]
  },
  {
   "cell_type": "code",
   "execution_count": 329,
   "metadata": {
    "ExecuteTime": {
     "end_time": "2019-03-21T20:56:42.362370Z",
     "start_time": "2019-03-21T20:56:42.357199Z"
    },
    "hidden": true
   },
   "outputs": [],
   "source": [
    "zhCS['CrossSection in ab']=zhCS['Cross section (pb)'].apply(lambda x: 10**6*measurementFromString(x)[0])\n",
    "zhCS['DeltaCrossSection in ab']=zhCS['Cross section (pb)'].apply(lambda x: 10**6*max(0.01*measurementFromString(x)[0],measurementFromString(x)[1]) )"
   ]
  },
  {
   "cell_type": "code",
   "execution_count": 330,
   "metadata": {
    "ExecuteTime": {
     "end_time": "2019-03-21T20:56:46.306500Z",
     "start_time": "2019-03-21T20:56:46.302003Z"
    },
    "hidden": true
   },
   "outputs": [],
   "source": [
    "for k in ['ebeam1','G3L']:\n",
    "    zhCS[str(k)]=zhCS['Banner'].apply(lambda x: float(nextto(x,string=k) ) )"
   ]
  },
  {
   "cell_type": "code",
   "execution_count": 331,
   "metadata": {
    "ExecuteTime": {
     "end_time": "2019-03-21T20:56:47.547200Z",
     "start_time": "2019-03-21T20:56:47.537077Z"
    },
    "hidden": true
   },
   "outputs": [],
   "source": [
    "zhCS['G3L times TeV^2']=zhCS['G3L'].apply(lambda x: 10**6*x )"
   ]
  },
  {
   "cell_type": "markdown",
   "metadata": {
    "heading_collapsed": true
   },
   "source": [
    "### Create necessary new columns"
   ]
  },
  {
   "cell_type": "code",
   "execution_count": 21,
   "metadata": {
    "ExecuteTime": {
     "end_time": "2019-03-29T09:53:31.940049Z",
     "start_time": "2019-03-29T09:53:31.934879Z"
    },
    "hidden": true
   },
   "outputs": [],
   "source": [
    "MGPage['CrossSection in ab']=MGPage['Cross section (pb)'].apply(lambda x: 10**6*u.measurementFromString(x)[0])\n",
    "MGPage['DeltaCrossSection in ab']=MGPage['Cross section (pb)'].apply(lambda x: 10**6*max(0.01*u.measurementFromString(x)[0],u.measurementFromString(x)[1]) )"
   ]
  },
  {
   "cell_type": "code",
   "execution_count": 22,
   "metadata": {
    "ExecuteTime": {
     "end_time": "2019-03-29T09:53:31.946361Z",
     "start_time": "2019-03-29T09:53:31.941901Z"
    },
    "hidden": true
   },
   "outputs": [],
   "source": [
    "for k in ['ebeam1','G3L']:\n",
    "    MGPage[str(k)]=MGPage['Banner'].apply(lambda x: float(u.nextto(x,string=k) ) )"
   ]
  },
  {
   "cell_type": "code",
   "execution_count": 23,
   "metadata": {
    "ExecuteTime": {
     "end_time": "2019-03-29T09:53:31.953998Z",
     "start_time": "2019-03-29T09:53:31.948240Z"
    },
    "hidden": true
   },
   "outputs": [],
   "source": [
    "MGPage['G3L times TeV^2']=MGPage['G3L'].apply(lambda x: 10**6*x )\n",
    "MGPage['Sqrt{s} in TeV']=MGPage['ebeam1']*2/1000#.apply(lambda x: 10**6*x )"
   ]
  },
  {
   "cell_type": "markdown",
   "metadata": {},
   "source": [
    "### Fit the columns (numerical function)"
   ]
  },
  {
   "cell_type": "code",
   "execution_count": 876,
   "metadata": {
    "ExecuteTime": {
     "end_time": "2019-03-30T15:25:06.900933Z",
     "start_time": "2019-03-30T15:25:06.897457Z"
    }
   },
   "outputs": [],
   "source": [
    "def luminosity(eb):\n",
    "    if eb==1500:\n",
    "        return 2*(0.8)**2*0.7*0.67*0.5\n",
    "    if eb==15000:\n",
    "        return 10*(eb/5000)**2*(0.8)**2*0.7*0.67\n",
    "    if eb==7000:\n",
    "        return 10*(eb/5000)**2*(0.8)**2*0.7*0.67"
   ]
  },
  {
   "cell_type": "code",
   "execution_count": 877,
   "metadata": {
    "ExecuteTime": {
     "end_time": "2019-03-30T15:25:06.909030Z",
     "start_time": "2019-03-30T15:25:06.903199Z"
    }
   },
   "outputs": [
    {
     "name": "stdout",
     "output_type": "stream",
     "text": [
      "maximal 1/G3L= 2.0408163265306123e-08\n"
     ]
    }
   ],
   "source": [
    "print('maximal 1/G3L=',str(1/eb**2))"
   ]
  },
  {
   "cell_type": "code",
   "execution_count": 891,
   "metadata": {
    "ExecuteTime": {
     "end_time": "2019-03-30T15:28:33.471161Z",
     "start_time": "2019-03-30T15:28:33.467636Z"
    }
   },
   "outputs": [
    {
     "data": {
      "text/plain": [
       "19.599999999999998"
      ]
     },
     "execution_count": 891,
     "metadata": {},
     "output_type": "execute_result"
    }
   ],
   "source": [
    "(14/10)**2*10"
   ]
  },
  {
   "cell_type": "code",
   "execution_count": 878,
   "metadata": {
    "ExecuteTime": {
     "end_time": "2019-03-30T15:25:06.927096Z",
     "start_time": "2019-03-30T15:25:06.911830Z"
    }
   },
   "outputs": [
    {
     "data": {
      "text/html": [
       "<div>\n",
       "<style scoped>\n",
       "    .dataframe tbody tr th:only-of-type {\n",
       "        vertical-align: middle;\n",
       "    }\n",
       "\n",
       "    .dataframe tbody tr th {\n",
       "        vertical-align: top;\n",
       "    }\n",
       "\n",
       "    .dataframe thead th {\n",
       "        text-align: right;\n",
       "    }\n",
       "</style>\n",
       "<table border=\"1\" class=\"dataframe\">\n",
       "  <thead>\n",
       "    <tr style=\"text-align: right;\">\n",
       "      <th></th>\n",
       "      <th>G3L times TeV^2</th>\n",
       "      <th>CrossSection in ab</th>\n",
       "      <th>DeltaCrossSection in ab</th>\n",
       "    </tr>\n",
       "  </thead>\n",
       "  <tbody>\n",
       "    <tr>\n",
       "      <th>1</th>\n",
       "      <td>0.00000</td>\n",
       "      <td>1362.0</td>\n",
       "      <td>13.62</td>\n",
       "    </tr>\n",
       "    <tr>\n",
       "      <th>2</th>\n",
       "      <td>0.00010</td>\n",
       "      <td>1381.0</td>\n",
       "      <td>13.81</td>\n",
       "    </tr>\n",
       "    <tr>\n",
       "      <th>3</th>\n",
       "      <td>0.00001</td>\n",
       "      <td>1363.0</td>\n",
       "      <td>13.63</td>\n",
       "    </tr>\n",
       "    <tr>\n",
       "      <th>4</th>\n",
       "      <td>0.00100</td>\n",
       "      <td>1563.0</td>\n",
       "      <td>15.63</td>\n",
       "    </tr>\n",
       "    <tr>\n",
       "      <th>19</th>\n",
       "      <td>0.00010</td>\n",
       "      <td>1381.0</td>\n",
       "      <td>13.81</td>\n",
       "    </tr>\n",
       "    <tr>\n",
       "      <th>20</th>\n",
       "      <td>0.00000</td>\n",
       "      <td>1362.0</td>\n",
       "      <td>13.62</td>\n",
       "    </tr>\n",
       "    <tr>\n",
       "      <th>21</th>\n",
       "      <td>0.01000</td>\n",
       "      <td>4425.0</td>\n",
       "      <td>44.25</td>\n",
       "    </tr>\n",
       "    <tr>\n",
       "      <th>22</th>\n",
       "      <td>-0.01000</td>\n",
       "      <td>634.0</td>\n",
       "      <td>6.34</td>\n",
       "    </tr>\n",
       "  </tbody>\n",
       "</table>\n",
       "</div>"
      ],
      "text/plain": [
       "    G3L times TeV^2  CrossSection in ab  DeltaCrossSection in ab\n",
       "1           0.00000              1362.0                    13.62\n",
       "2           0.00010              1381.0                    13.81\n",
       "3           0.00001              1363.0                    13.63\n",
       "4           0.00100              1563.0                    15.63\n",
       "19          0.00010              1381.0                    13.81\n",
       "20          0.00000              1362.0                    13.62\n",
       "21          0.01000              4425.0                    44.25\n",
       "22         -0.01000               634.0                     6.34"
      ]
     },
     "execution_count": 878,
     "metadata": {},
     "output_type": "execute_result"
    }
   ],
   "source": [
    "eb=1500\n",
    "_data=MGPage.query('ebeam1=='+str(eb)+' & (-'+str(1/eb**2)+'<=G3L) & (G3L<='+str(1/eb**2)+')')[ ['G3L times TeV^2','CrossSection in ab','DeltaCrossSection in ab'] ]\n",
    "_data"
   ]
  },
  {
   "cell_type": "code",
   "execution_count": 879,
   "metadata": {
    "ExecuteTime": {
     "end_time": "2019-03-30T15:25:06.931224Z",
     "start_time": "2019-03-30T15:25:06.928716Z"
    }
   },
   "outputs": [],
   "source": [
    "def _fit(x,const,lin,quad):\n",
    "    return const+x*lin+quad*x**2"
   ]
  },
  {
   "cell_type": "code",
   "execution_count": 880,
   "metadata": {
    "ExecuteTime": {
     "end_time": "2019-03-30T15:25:06.956200Z",
     "start_time": "2019-03-30T15:25:06.933220Z"
    }
   },
   "outputs": [
    {
     "name": "stdout",
     "output_type": "stream",
     "text": [
      "['1362(6)', '1.90(2) \\\\times 10^{5}', '1.17(2) \\\\times 10^{7}']\n"
     ]
    }
   ],
   "source": [
    "fit_res = u.fit_pandas_data(_fit,_data)\n",
    "print(fit_res.refined_parameters)"
   ]
  },
  {
   "cell_type": "code",
   "execution_count": 881,
   "metadata": {
    "ExecuteTime": {
     "end_time": "2019-03-30T15:25:06.975436Z",
     "start_time": "2019-03-30T15:25:06.958481Z"
    }
   },
   "outputs": [
    {
     "name": "stdout",
     "output_type": "stream",
     "text": [
      "['1362(6)', '1.90(2) \\\\times 10^{5}', '1.17(2) \\\\times 10^{7}']\n"
     ]
    }
   ],
   "source": [
    "fit_res = u.fit_pandas_data(_fit,_data,p0=[13,10**5,10**9])\n",
    "print(fit_res.refined_parameters)"
   ]
  },
  {
   "cell_type": "code",
   "execution_count": 882,
   "metadata": {
    "ExecuteTime": {
     "end_time": "2019-03-30T15:25:06.983455Z",
     "start_time": "2019-03-30T15:25:06.977977Z"
    }
   },
   "outputs": [
    {
     "data": {
      "text/plain": [
       "1361.78826813514"
      ]
     },
     "execution_count": 882,
     "metadata": {},
     "output_type": "execute_result"
    }
   ],
   "source": [
    "fit_res.bestfit_sympy.subs(c95,0)"
   ]
  },
  {
   "cell_type": "code",
   "execution_count": 883,
   "metadata": {
    "ExecuteTime": {
     "end_time": "2019-03-30T15:25:06.989372Z",
     "start_time": "2019-03-30T15:25:06.985869Z"
    }
   },
   "outputs": [
    {
     "name": "stdout",
     "output_type": "stream",
     "text": [
      "$  1362(6)  +  1.90(2) \\cdot 10^{5} \\cdot x +  1.17(2) \\cdot 10^{7}  \\cdot x^2 $\n"
     ]
    }
   ],
   "source": [
    "lab=(\"$  %s  +  %s \\\\cdot x +  %s  \\\\cdot x^2 $\" % tuple( fit_res.refined_parameters  )).replace('\\\\times','\\\\cdot')\n",
    "print(lab)"
   ]
  },
  {
   "cell_type": "code",
   "execution_count": 884,
   "metadata": {
    "ExecuteTime": {
     "end_time": "2019-03-30T15:25:08.112961Z",
     "start_time": "2019-03-30T15:25:06.992508Z"
    }
   },
   "outputs": [
    {
     "data": {
      "image/png": "[encoded data removed]",
      "text/plain": [
       "<Figure size 640x480 with 1 Axes>"
      ]
     },
     "metadata": {},
     "output_type": "display_data"
    }
   ],
   "source": [
    "_xdata='G3L times TeV^2'\n",
    "_ydata='CrossSection in ab'\n",
    "_x=2*np.linspace(min(_data[_xdata]),max(_data[_xdata]))\n",
    "\n",
    "plt.plot(_data[_xdata], _data[_ydata],'bd')\n",
    "#plt.plot(_x, _fit( _x , fit_res.parameters[0],fit_res.parameters[1], fit_res.parameters[2] ),'c-', label=lab )\n",
    "plt.plot(_x, fit_res.bestfit(_x) ,'c-', label=lab )\n",
    "\n",
    "plt.legend(bbox_to_anchor=[1,1])\n",
    "plt.xlabel(_xdata)\n",
    "plt.ylabel(_ydata)\n",
    "plt.title('$\\\\sigma(\\\\ell^+ \\\\ell^- \\\\to Zh ) \\\\quad \\\\sqrt{s}='+str(2*eb/1000)+'\\,{\\\\rm TeV} $')\n",
    "plt.xscale('linear')\n",
    "plt.savefig(_ydata+_xdata+'_'+str(eb)+\".pdf\",bbox_inches='tight')"
   ]
  },
  {
   "cell_type": "markdown",
   "metadata": {},
   "source": [
    "$$2\\cdot \\sqrt{\\sigma(c=0) \\cdot \\mathcal{L}} = \\left| \\mathcal{L} \\cdot \\left( \\sigma(c_{95}) - \\sigma(c=0) \\right) \\right| $$\n",
    "$$2\\cdot \\sqrt{\\sigma(c=0) \\cdot \\mathcal{L}} - \\mathcal{L} \\cdot \\left( \\sigma(c_{95}) - \\sigma(c=0) \\right) $$"
   ]
  },
  {
   "cell_type": "code",
   "execution_count": 885,
   "metadata": {
    "ExecuteTime": {
     "end_time": "2019-03-30T15:25:08.121431Z",
     "start_time": "2019-03-30T15:25:08.115846Z"
    }
   },
   "outputs": [
    {
     "data": {
      "text/plain": [
       "139.192127268571"
      ]
     },
     "execution_count": 885,
     "metadata": {},
     "output_type": "execute_result"
    }
   ],
   "source": [
    "(sympy.diff(fit_res.bestfit_sympy, c95 )/fit_res.bestfit_sympy).subs(c95,0)"
   ]
  },
  {
   "cell_type": "code",
   "execution_count": 886,
   "metadata": {
    "ExecuteTime": {
     "end_time": "2019-03-30T15:25:08.128354Z",
     "start_time": "2019-03-30T15:25:08.123765Z"
    }
   },
   "outputs": [
    {
     "data": {
      "text/plain": [
       "0.30016000000000004"
      ]
     },
     "execution_count": 886,
     "metadata": {},
     "output_type": "execute_result"
    }
   ],
   "source": [
    "luminosity(eb)"
   ]
  },
  {
   "cell_type": "code",
   "execution_count": 887,
   "metadata": {
    "ExecuteTime": {
     "end_time": "2019-03-30T15:25:08.207590Z",
     "start_time": "2019-03-30T15:25:08.130865Z"
    }
   },
   "outputs": [
    {
     "name": "stdout",
     "output_type": "stream",
     "text": [
      "Expected events in the SM 408.7543665634437\n",
      "{-0.0169146319970614, -0.0154877154634129, -0.000744877144676916, 0.000682039388971616}\n"
     ]
    },
    {
     "data": {
      "text/plain": [
       "[38.2908733229153, -36.6401864989057]"
      ]
     },
     "execution_count": 887,
     "metadata": {},
     "output_type": "execute_result"
    }
   ],
   "source": [
    "_lumi=luminosity(eb)\n",
    "c95 = sympy.symbols('c95',real=True,positive=False)\n",
    "print('Expected events in the SM',_lumi*fit_res.bestfit(0))\n",
    "fluctuation=2*np.sqrt( _lumi*fit_res.bestfit(0)) \n",
    "deviation= _lumi* sympy.Abs( fit_res.bestfit(c95) - fit_res.bestfit(0) )\n",
    "expression=fluctuation - deviation\n",
    "\n",
    "sols = sympy.solveset( sympy.Eq(deviation,fluctuation) ,c95,domain=sympy.S.Reals)\n",
    "print(sols)\n",
    "phys_sols=sorted(sols, key=lambda x: np.abs(x) )[0:2]\n",
    "\n",
    "deviation.collect(c95)\n",
    "list(map(lambda x: sympy.sign(x)/sympy.sqrt(sympy.Abs(x)), phys_sols ) ) "
   ]
  },
  {
   "cell_type": "code",
   "execution_count": 888,
   "metadata": {
    "ExecuteTime": {
     "end_time": "2019-03-30T15:25:08.213039Z",
     "start_time": "2019-03-30T15:25:08.209517Z"
    }
   },
   "outputs": [
    {
     "data": {
      "text/plain": [
       "4.494060657866246"
      ]
     },
     "execution_count": 888,
     "metadata": {},
     "output_type": "execute_result"
    }
   ],
   "source": [
    "np.sqrt(408/216*139/13)"
   ]
  },
  {
   "cell_type": "code",
   "execution_count": 889,
   "metadata": {
    "ExecuteTime": {
     "end_time": "2019-03-30T15:25:08.535721Z",
     "start_time": "2019-03-30T15:25:08.214720Z"
    }
   },
   "outputs": [
    {
     "name": "stdout",
     "output_type": "stream",
     "text": [
      "is sympy\n"
     ]
    },
    {
     "data": {
      "text/plain": [
       "Text(0,0.5,'$\\\\mathcal{L}\\\\cdot \\\\left|  \\\\sigma_{BSM}-\\\\sigma_{SM} \\\\right| $')"
      ]
     },
     "execution_count": 889,
     "metadata": {},
     "output_type": "execute_result"
    },
    {
     "data": {
      "image/png": "[encoded data removed]",
      "text/plain": [
       "<Figure size 640x480 with 1 Axes>"
      ]
     },
     "metadata": {},
     "output_type": "display_data"
    }
   ],
   "source": [
    "cmin=min(phys_sols)*(1-0.2*np.sign(min(phys_sols)))\n",
    "cmax=max(phys_sols)*(1+0.2*np.sign(max(phys_sols)))\n",
    "u.Plot(deviation,c95,cmin,cmax,fmt='-',PlotPoints=50)\n",
    "u.Plot(fluctuation,None,cmin,cmax,fmt='-',lower_xtick_density=2,x_tick_rotation=90,xscilimits=(-1,1))\n",
    "#plt.ticklabel_format(style='sci', axis='x', scilimits=(0,0))\n",
    "plt.xlabel('\\n$G_{3L} \\cdot \\\\rm TeV^2$')\n",
    "plt.ylabel('$\\\\mathcal{L}\\\\cdot \\\\left|  \\\\sigma_{BSM}-\\\\sigma_{SM} \\\\right| $')"
   ]
  },
  {
   "cell_type": "code",
   "execution_count": 890,
   "metadata": {
    "ExecuteTime": {
     "end_time": "2019-03-30T15:25:08.550425Z",
     "start_time": "2019-03-30T15:25:08.537547Z"
    }
   },
   "outputs": [
    {
     "data": {
      "text/html": [
       "<div>\n",
       "<style scoped>\n",
       "    .dataframe tbody tr th:only-of-type {\n",
       "        vertical-align: middle;\n",
       "    }\n",
       "\n",
       "    .dataframe tbody tr th {\n",
       "        vertical-align: top;\n",
       "    }\n",
       "\n",
       "    .dataframe thead th {\n",
       "        text-align: right;\n",
       "    }\n",
       "</style>\n",
       "<table border=\"1\" class=\"dataframe\">\n",
       "  <thead>\n",
       "    <tr style=\"text-align: right;\">\n",
       "      <th></th>\n",
       "      <th>Sqrt{s} in TeV</th>\n",
       "      <th>CrossSection in ab</th>\n",
       "    </tr>\n",
       "  </thead>\n",
       "  <tbody>\n",
       "    <tr>\n",
       "      <th>1</th>\n",
       "      <td>3.0</td>\n",
       "      <td>1362.00</td>\n",
       "    </tr>\n",
       "    <tr>\n",
       "      <th>5</th>\n",
       "      <td>14.0</td>\n",
       "      <td>62.26</td>\n",
       "    </tr>\n",
       "    <tr>\n",
       "      <th>12</th>\n",
       "      <td>30.0</td>\n",
       "      <td>13.55</td>\n",
       "    </tr>\n",
       "    <tr>\n",
       "      <th>20</th>\n",
       "      <td>3.0</td>\n",
       "      <td>1362.00</td>\n",
       "    </tr>\n",
       "  </tbody>\n",
       "</table>\n",
       "</div>"
      ],
      "text/plain": [
       "    Sqrt{s} in TeV  CrossSection in ab\n",
       "1              3.0             1362.00\n",
       "5             14.0               62.26\n",
       "12            30.0               13.55\n",
       "20             3.0             1362.00"
      ]
     },
     "execution_count": 890,
     "metadata": {},
     "output_type": "execute_result"
    }
   ],
   "source": [
    "MGPage.query('G3L==0')[['Sqrt{s} in TeV',\"CrossSection in ab\"]]#.to_latex()"
   ]
  },
  {
   "cell_type": "markdown",
   "metadata": {},
   "source": [
    "### Fit the columns sympy"
   ]
  },
  {
   "cell_type": "code",
   "execution_count": 678,
   "metadata": {
    "ExecuteTime": {
     "end_time": "2019-03-30T09:49:00.962420Z",
     "start_time": "2019-03-30T09:49:00.958845Z"
    }
   },
   "outputs": [],
   "source": [
    "expr=sympy.sympify('const+g*lin+quad*g**2+beta')"
   ]
  },
  {
   "cell_type": "code",
   "execution_count": 679,
   "metadata": {
    "ExecuteTime": {
     "end_time": "2019-03-30T09:49:00.970827Z",
     "start_time": "2019-03-30T09:49:00.965114Z"
    }
   },
   "outputs": [
    {
     "name": "stdout",
     "output_type": "stream",
     "text": [
      "const\n",
      "lin\n",
      "gtp\n",
      "quad\n",
      "g\n",
      "adding  g to symbols\n"
     ]
    }
   ],
   "source": [
    "expr=sympy.sympify('const+g*lin+quad*g**2+gtp')\n",
    "for _symbol in expr.free_symbols:\n",
    "    print(_symbol)\n",
    "    if len(str(_symbol))==1:# or u.isGreek(str(i)):\n",
    "        print('adding ',_symbol,'to symbols')\n",
    "        sympy.var(str(_symbol))\n",
    "        #from sympy.abc import i\n"
   ]
  },
  {
   "cell_type": "markdown",
   "metadata": {},
   "source": [
    "I want the function to not be independent from its string representation. For this I want to use SymPy, which offers functions to print the function as a string, which I can then manipulate."
   ]
  },
  {
   "cell_type": "code",
   "execution_count": 490,
   "metadata": {
    "ExecuteTime": {
     "end_time": "2019-03-27T23:10:58.740823Z",
     "start_time": "2019-03-27T23:10:58.738011Z"
    }
   },
   "outputs": [],
   "source": [
    "from sympy.utilities.lambdify import lambdify\n",
    "import sympy\n",
    "#import uncertainties\n",
    "#from sympy import mathematica_code as mcode, symbols, sin"
   ]
  },
  {
   "cell_type": "code",
   "execution_count": 505,
   "metadata": {
    "ExecuteTime": {
     "end_time": "2019-03-27T23:22:06.744846Z",
     "start_time": "2019-03-27T23:22:06.741986Z"
    }
   },
   "outputs": [],
   "source": [
    "def variables_names(N):\n",
    "    return ' '.join([  chr(97+i) for i in range(N) ])"
   ]
  },
  {
   "cell_type": "code",
   "execution_count": 500,
   "metadata": {
    "ExecuteTime": {
     "end_time": "2019-03-27T23:13:56.997261Z",
     "start_time": "2019-03-27T23:13:56.993263Z"
    }
   },
   "outputs": [
    {
     "data": {
      "text/plain": [
       "'a b c'"
      ]
     },
     "execution_count": 500,
     "metadata": {},
     "output_type": "execute_result"
    }
   ],
   "source": [
    "named_parameters(3)"
   ]
  },
  {
   "cell_type": "code",
   "execution_count": 506,
   "metadata": {
    "ExecuteTime": {
     "end_time": "2019-03-27T23:22:11.616456Z",
     "start_time": "2019-03-27T23:22:11.611751Z"
    }
   },
   "outputs": [],
   "source": [
    "pars=sympy.symbols(variables_names(3), real=True)\n",
    "x=sympy.symbols(\"x\",real=True)\n",
    "expression=pars[0]+x*pars[1]+pars[2]*x**2\n",
    "_f=lambdify([x]+list(pars),expression,\"numpy\")"
   ]
  },
  {
   "cell_type": "code",
   "execution_count": 507,
   "metadata": {
    "ExecuteTime": {
     "end_time": "2019-03-27T23:22:29.487024Z",
     "start_time": "2019-03-27T23:22:29.474942Z"
    }
   },
   "outputs": [
    {
     "name": "stdout",
     "output_type": "stream",
     "text": [
      "['62.2(2)', '1.89(2) \\\\times 10^{5}', '2.53(2) \\\\times 10^{8}']\n"
     ]
    }
   ],
   "source": [
    "fit_res = u.fit_pandas_data(_f,_data,p0=[13,10**5,10**9])\n",
    "print(fit_res.refined_parameters)"
   ]
  },
  {
   "cell_type": "code",
   "execution_count": 509,
   "metadata": {
    "ExecuteTime": {
     "end_time": "2019-03-27T23:23:18.568140Z",
     "start_time": "2019-03-27T23:23:18.560948Z"
    }
   },
   "outputs": [
    {
     "data": {
      "text/plain": [
       "'$1.89(2) \\\\cdot 10^{5} \\\\cdot x + 2.53(2) \\\\cdot 10^{8} \\\\cdot x^{2} + 62.2(2)$'"
      ]
     },
     "execution_count": 509,
     "metadata": {},
     "output_type": "execute_result"
    }
   ],
   "source": [
    "replacements=[ (pars[ithpar],fit_res.refined_parameters[ithpar]) for ithpar in range(len(pars) ) ]\n",
    "_expr=expression.subs(replacements)\n",
    "lab=('$'+sympy.latex(_expr,mul_symbol='dot')+'$').replace('times','cdot')\n",
    "lab"
   ]
  },
  {
   "cell_type": "code",
   "execution_count": 510,
   "metadata": {
    "ExecuteTime": {
     "end_time": "2019-03-27T23:23:32.064423Z",
     "start_time": "2019-03-27T23:23:32.060829Z"
    }
   },
   "outputs": [
    {
     "name": "stdout",
     "output_type": "stream",
     "text": [
      "1.89(2) \\times 10^{5}*x + 2.53(2) \\times 10^{8}*x**2 + 62.2(2)\n"
     ]
    }
   ],
   "source": [
    "print(_expr)"
   ]
  },
  {
   "cell_type": "code",
   "execution_count": 504,
   "metadata": {
    "ExecuteTime": {
     "end_time": "2019-03-27T23:14:24.036652Z",
     "start_time": "2019-03-27T23:14:23.711650Z"
    }
   },
   "outputs": [
    {
     "data": {
      "image/png": "[encoded data removed]",
      "text/plain": [
       "<Figure size 640x480 with 1 Axes>"
      ]
     },
     "metadata": {},
     "output_type": "display_data"
    }
   ],
   "source": [
    "_x=2*np.linspace(min(_data[_xdata]),max(_data[_xdata]) )\n",
    "_xdata='G3L times TeV^2'\n",
    "_ydata='CrossSection in ab'\n",
    "plt.plot(_data[_xdata], _data[_ydata],'bd')\n",
    "plt.plot(_x, _f( _x , fit_res.parameters[0],fit_res.parameters[1], fit_res.parameters[2] ),'c-', label=lab )\n",
    "plt.legend(bbox_to_anchor=[1,1])\n",
    "plt.xlabel(_xdata)\n",
    "plt.ylabel(_ydata)\n",
    "plt.xscale('linear')"
   ]
  },
  {
   "cell_type": "markdown",
   "metadata": {
    "heading_collapsed": true
   },
   "source": [
    "### Specific plots (crap?)"
   ]
  },
  {
   "cell_type": "code",
   "execution_count": 137,
   "metadata": {
    "ExecuteTime": {
     "end_time": "2019-03-21T18:20:19.481759Z",
     "start_time": "2019-03-21T18:20:19.467347Z"
    },
    "hidden": true
   },
   "outputs": [
    {
     "data": {
      "text/html": [
       "<div>\n",
       "<style scoped>\n",
       "    .dataframe tbody tr th:only-of-type {\n",
       "        vertical-align: middle;\n",
       "    }\n",
       "\n",
       "    .dataframe tbody tr th {\n",
       "        vertical-align: top;\n",
       "    }\n",
       "\n",
       "    .dataframe thead th {\n",
       "        text-align: right;\n",
       "    }\n",
       "</style>\n",
       "<table border=\"1\" class=\"dataframe\">\n",
       "  <thead>\n",
       "    <tr style=\"text-align: right;\">\n",
       "      <th></th>\n",
       "      <th>Run</th>\n",
       "      <th>Collider</th>\n",
       "      <th>Banner</th>\n",
       "      <th>Cross section (pb)</th>\n",
       "      <th>CleanBanner</th>\n",
       "      <th>ebeam1</th>\n",
       "      <th>G3L</th>\n",
       "      <th>CrossSection</th>\n",
       "      <th>DeltaCrossSection</th>\n",
       "    </tr>\n",
       "  </thead>\n",
       "  <tbody>\n",
       "    <tr>\n",
       "      <th>21</th>\n",
       "      <td>run4_of_14__ebeam1_7000_ebeam2_7000_G3L_1e-13_...</td>\n",
       "      <td>e+ e-</td>\n",
       "      <td>ee2zh_run5_ebeam1_7000_ebeam2_7000_G3L_1e-13</td>\n",
       "      <td>6.226e-05 ± 1.1e-08</td>\n",
       "      <td>True</td>\n",
       "      <td>7000.0</td>\n",
       "      <td>1.000000e-13</td>\n",
       "      <td>0.000062</td>\n",
       "      <td>1.100000e-08</td>\n",
       "    </tr>\n",
       "    <tr>\n",
       "      <th>42</th>\n",
       "      <td>run11_of_14__ebeam1_15000_ebeam2_15000_G3L_1e-...</td>\n",
       "      <td>e+ e-</td>\n",
       "      <td>ee2zh_run12_ebeam1_15000_ebeam2_15000_G3L_1e-13</td>\n",
       "      <td>1.357e-05 ± 2.4e-09</td>\n",
       "      <td>True</td>\n",
       "      <td>15000.0</td>\n",
       "      <td>1.000000e-13</td>\n",
       "      <td>0.000014</td>\n",
       "      <td>2.400000e-09</td>\n",
       "    </tr>\n",
       "  </tbody>\n",
       "</table>\n",
       "</div>"
      ],
      "text/plain": [
       "                                                  Run Collider  \\\n",
       "21  run4_of_14__ebeam1_7000_ebeam2_7000_G3L_1e-13_...    e+ e-   \n",
       "42  run11_of_14__ebeam1_15000_ebeam2_15000_G3L_1e-...    e+ e-   \n",
       "\n",
       "                                             Banner    Cross section (pb)  \\\n",
       "21     ee2zh_run5_ebeam1_7000_ebeam2_7000_G3L_1e-13  6.226e-05 ± 1.1e-08    \n",
       "42  ee2zh_run12_ebeam1_15000_ebeam2_15000_G3L_1e-13  1.357e-05 ± 2.4e-09    \n",
       "\n",
       "    CleanBanner   ebeam1           G3L  CrossSection  DeltaCrossSection  \n",
       "21         True   7000.0  1.000000e-13      0.000062       1.100000e-08  \n",
       "42         True  15000.0  1.000000e-13      0.000014       2.400000e-09  "
      ]
     },
     "execution_count": 137,
     "metadata": {},
     "output_type": "execute_result"
    }
   ],
   "source": [
    "zhCS.query('G3L==1e-13')"
   ]
  },
  {
   "cell_type": "code",
   "execution_count": 142,
   "metadata": {
    "ExecuteTime": {
     "end_time": "2019-03-21T18:22:07.960549Z",
     "start_time": "2019-03-21T18:22:07.957097Z"
    },
    "hidden": true
   },
   "outputs": [],
   "source": [
    "def CrosSectionVsEnergyPlot(g3l,**kw):\n",
    "    fig = plt.errorbar(\\\n",
    "                 zhCS.query('G3L=='+str(g3l))['ebeam1'],\\\n",
    "                 zhCS.query('G3L=='+str(g3l))['CrossSection'],\\\n",
    "                 zhCS.query('G3L=='+str(g3l))['DeltaCrossSection']\\\n",
    "                 ,**kw)\n",
    "    plt.xscale('log')\n",
    "    plt.yscale('log')\n",
    "    return fig\n",
    "\n"
   ]
  },
  {
   "cell_type": "code",
   "execution_count": 192,
   "metadata": {
    "ExecuteTime": {
     "end_time": "2019-03-21T19:07:41.663017Z",
     "start_time": "2019-03-21T19:07:41.658990Z"
    },
    "hidden": true
   },
   "outputs": [],
   "source": [
    "def CrosSectionVsG3LPlot(energy,**kw):\n",
    "    fig = plt.errorbar(\\\n",
    "                 zhCS.query('ebeam1=='+str(energy))['G3L'],\\\n",
    "                 10**6*zhCS.query('ebeam1=='+str(energy))['CrossSection'],\\\n",
    "                 10**6*zhCS.query('ebeam1=='+str(energy))['DeltaCrossSection']\\\n",
    "                 ,**kw)\n",
    "    plt.xscale('linear')\n",
    "    plt.yscale('linear')\n",
    "    plt.title(\"$\\\\sqrt{s}=$\"+str(2*energy/1000)+\" TeV\")\n",
    "    plt.xlabel('G3L $[\\\\rm GeV^{-2}]$')\n",
    "    plt.ylabel('$\\\\sigma(\\\\ell^+\\\\ell^- \\\\to ZH) \\\\rm\\,\\; [ab]$')\n",
    "    return fig\n",
    "\n"
   ]
  },
  {
   "cell_type": "code",
   "execution_count": 193,
   "metadata": {
    "ExecuteTime": {
     "end_time": "2019-03-21T19:07:42.823794Z",
     "start_time": "2019-03-21T19:07:42.560958Z"
    },
    "hidden": true
   },
   "outputs": [
    {
     "data": {
      "text/plain": [
       "<ErrorbarContainer object of 3 artists>"
      ]
     },
     "execution_count": 193,
     "metadata": {},
     "output_type": "execute_result"
    },
    {
     "data": {
      "image/png": "[encoded data removed]",
      "text/plain": [
       "<Figure size 640x480 with 1 Axes>"
      ]
     },
     "metadata": {},
     "output_type": "display_data"
    }
   ],
   "source": [
    "CrosSectionVsG3LPlot(1500,fmt='o')"
   ]
  },
  {
   "cell_type": "code",
   "execution_count": 194,
   "metadata": {
    "ExecuteTime": {
     "end_time": "2019-03-21T19:07:51.368322Z",
     "start_time": "2019-03-21T19:07:51.109207Z"
    },
    "hidden": true
   },
   "outputs": [
    {
     "data": {
      "text/plain": [
       "<ErrorbarContainer object of 3 artists>"
      ]
     },
     "execution_count": 194,
     "metadata": {},
     "output_type": "execute_result"
    },
    {
     "data": {
      "image/png": "[encoded data removed]",
      "text/plain": [
       "<Figure size 640x480 with 1 Axes>"
      ]
     },
     "metadata": {},
     "output_type": "display_data"
    }
   ],
   "source": [
    "CrosSectionVsG3LPlot(15000,fmt='o')"
   ]
  },
  {
   "cell_type": "code",
   "execution_count": 135,
   "metadata": {
    "ExecuteTime": {
     "end_time": "2019-03-21T18:19:35.809616Z",
     "start_time": "2019-03-21T18:19:35.461544Z"
    },
    "hidden": true
   },
   "outputs": [
    {
     "data": {
      "text/plain": [
       "<ErrorbarContainer object of 3 artists>"
      ]
     },
     "execution_count": 135,
     "metadata": {},
     "output_type": "execute_result"
    },
    {
     "data": {
      "image/png": "[encoded data removed]",
      "text/plain": [
       "<Figure size 432x288 with 1 Axes>"
      ]
     },
     "metadata": {},
     "output_type": "display_data"
    }
   ],
   "source": [
    "CrosSectionPlot(0,fmt='-.')\n",
    "CrosSectionPlot(1e-9,fmt='o--')\n",
    "CrosSectionPlot(1e-10,fmt='o--')\n",
    "CrosSectionPlot(1e-11,fmt='o--')\n",
    "CrosSectionPlot(1e-12,fmt='o--')"
   ]
  },
  {
   "cell_type": "code",
   "execution_count": null,
   "metadata": {
    "hidden": true
   },
   "outputs": [],
   "source": []
  }
 ],
 "metadata": {
  "celltoolbar": "Initialization Cell",
  "kernelspec": {
   "display_name": "Python 3",
   "language": "python",
   "name": "python3"
  },
  "language_info": {
   "codemirror_mode": {
    "name": "ipython",
    "version": 3
   },
   "file_extension": ".py",
   "mimetype": "text/x-python",
   "name": "python",
   "nbconvert_exporter": "python",
   "pygments_lexer": "ipython3",
   "version": "3.7.0"
  },
  "latex_envs": {
   "LaTeX_envs_menu_present": true,
   "autocomplete": true,
   "bibliofile": "biblio.bib",
   "cite_by": "apalike",
   "current_citInitial": 1,
   "eqLabelWithNumbers": true,
   "eqNumInitial": 1,
   "hotkeys": {
    "equation": "Ctrl-E",
    "itemize": "Ctrl-I"
   },
   "labels_anchors": false,
   "latex_user_defs": false,
   "report_style_numbering": false,
   "user_envs_cfg": false
  }
 },
 "nbformat": 4,
 "nbformat_minor": 2
}
